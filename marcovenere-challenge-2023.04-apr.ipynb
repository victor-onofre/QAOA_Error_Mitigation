{
 "cells": [
  {
   "cell_type": "markdown",
   "metadata": {},
   "source": [
    "# Challenge: QUBO\n",
    "\n",
    "\n",
    "[<img src=\"https://qbraid-static.s3.amazonaws.com/logos/Launch_on_qBraid_white.png\" width=\"150\">](https://account.qbraid.com?gitHubUrl=https://github.com/qosf/monthly-challenges.git)\n",
    "\n",
    "\n",
    "Quantum computing is used extensively for modelling and solving combinatorial optimisation issues. The purpose of this is to find a problem with binary clauses where the amount of states is immense and, in order to uncover the correct answers, quantum computing produces algorithms of NP-complexity. On the other hand, in quantum computing, we are interested in representing such a model in a quantum circuit and being able to find the optimal states that satisfy the cost function using a classical optimizer.\n",
    "\n",
    "Multiple companies work around computers and generate an SDK that can generate quantum circuits, in this challenge, we focus on a fundamental step of the Quantum Approximate Optimization Algorithm (QAOA) algorithm, before starting the quantum part one must model a problem in terms of 0 and 1 and convert it into a Quadratic unconstrained binary optimization (QUBO) and this convert it to an Ising model to find the optimal states. To validate the model one makes use of OpenQAOA, an SDK focused on circuitry of the QAOA algorithm. If you want to know more about this SDK you can check the following link https://openqaoa.entropicalabs.com/ \n",
    "\n",
    "### Note \n",
    "\n",
    "To run on real QPU and simulators use  [qbraid](https://account.qbraid.com/) and send them a dm on their [discord server](https://discord.gg/S99GJBfr) to get credits!"
   ]
  },
  {
   "cell_type": "markdown",
   "metadata": {},
   "source": [
    "## The Knapsack problem\n",
    "\n",
    "\n",
    "This challenge is based on the hybrid algorithm QAOA which is based on a variational circuit which will be modified to find the minimum energy by means of a classical optimizer and from the states with the highest probability we will have at least one state that satisfies the conditions of the cost function we use, being based on the knapsack problem.\n",
    "\n",
    "![QAOA](images/QAOA.png)\n",
    "<center>Figure 1. General quantum circuit of QAOA </center>\n",
    "\n",
    "\n",
    "\n",
    "The knapsack problem asks us to find a combination of items such that the total weight is within the capacity of the knapsack and maximize the total value of the items. The Knapsack problem is the simplest nontrivial integer programming model with binary variables, only one constraint and only positive coefficients. \n",
    "\n",
    "It is formally defined as follows: We are given an instance of the knapsack problem with the set of items  $N^{\\prime}=\\{1, \\ldots, N\\}$, consisting of $N$ items, the $j$-th with profit $p_{j}$ and weight $w_{j}$, and the capacity value $W$. Then, the objective is to select a subset of $N^{\\prime}$ such that the total profit of the selected items is maximized and the total weight does not exceed $W$.\n",
    "$$\n",
    "\\begin{aligned}\n",
    "\\operatorname{maximizar} & \\sum_{j=1}^{N} p_{j} x_{j} \\\\\n",
    "\\text { sujeto a } & \\sum_{j=1}^{N} w_{j} x_{j} \\leq W \\\\\n",
    "& x_{j} \\in\\{0,1\\}, \\quad j=1, \\ldots, N\n",
    "\\end{aligned}\n",
    "$$\n",
    "Let us denote the optimal solution vector by $x^{*}=\\left(x_{i}^{*}, \\ldots, x_{N}^{*}\\right)$ y el valor de solución óptima por $z^{*}$ and the optimal solution value by $z^{*}$. The set $X^{*}$ denotes the optimal solution set, i.e., the set of elements corresponding to the optimal solution vector."
   ]
  },
  {
   "cell_type": "markdown",
   "metadata": {},
   "source": [
    "![knapsack problem](images/knapsack_model.png)\n",
    "<center>Figure 2. Representation of the knapsack model </center>\n",
    "\n",
    "\n",
    "### Resources\n",
    "\n",
    "For some guidelines on the objective of this challenge and its passage to a quantum circuit you can consult the following sources, including the original paper explaining this algorithm, as well as some tutorials from different frameworks.\n",
    "\n",
    "[1] Edward Farhi and Jeffrey Goldstone. (2014). A Quantum Approximate Optimization Algorithm [[4028]](https://arxiv.org/pdf/1411.4028.pdf).\n",
    "\n",
    "[2] [Qiskit Code](https://learn.qiskit.org/course/ch-applications/solving-combinatorial-optimization-problems-using-qaoa).\n",
    "\n",
    "[3] [Qiskit Application](https://github.com/qiskit-community/ibm-quantum-challenge-fall-2021/blob/main/solutions-by-authors/challenge-4/challenge-4.ipynb)\n",
    "\n",
    "[4] [Pennylane Tutorial](https://pennylane.ai/qml/demos/tutorial_qaoa_intro.html)\n",
    "\n",
    "[5] [Pyquil Tutorial](https://grove-docs.readthedocs.io/en/latest/qaoa.html)\n",
    "\n",
    "[6] [QUBO's tutorial paper](https://arxiv.org/pdf/1811.11538.pdf)\n"
   ]
  },
  {
   "cell_type": "markdown",
   "metadata": {},
   "source": [
    "## Using OpenQAOA\n",
    "\n",
    "Considering the examples based on OpenQAOA, we already have different classes and methods that facilitate the construction of quantum circuits, but how to generate a QUBO we will rely on docplex. For more information on QAOA examples and how to generate QUBOs, please click [here](https://github.com/entropicalabs/openqaoa/tree/main/examples)."
   ]
  },
  {
   "cell_type": "code",
   "execution_count": 4,
   "metadata": {},
   "outputs": [
    {
     "ename": "ImportError",
     "evalue": "Missing optional 'qiskit' dependencies. To install run: pip install azure-quantum[qiskit]",
     "output_type": "error",
     "traceback": [
      "\u001b[0;31m---------------------------------------------------------------------------\u001b[0m",
      "\u001b[0;31mImportError\u001b[0m                               Traceback (most recent call last)",
      "File \u001b[0;32m~/.local/lib/python3.10/site-packages/azure/quantum/qiskit/backends/backend.py:29\u001b[0m\n\u001b[1;32m     28\u001b[0m \u001b[39mfrom\u001b[39;00m \u001b[39mqiskit\u001b[39;00m\u001b[39m.\u001b[39;00m\u001b[39mproviders\u001b[39;00m\u001b[39m.\u001b[39;00m\u001b[39mmodels\u001b[39;00m \u001b[39mimport\u001b[39;00m BackendConfiguration\n\u001b[0;32m---> 29\u001b[0m \u001b[39mfrom\u001b[39;00m \u001b[39mqiskit\u001b[39;00m\u001b[39m.\u001b[39;00m\u001b[39mqobj\u001b[39;00m \u001b[39mimport\u001b[39;00m Qobj, QasmQobj\n\u001b[1;32m     30\u001b[0m \u001b[39mfrom\u001b[39;00m \u001b[39mpyqir\u001b[39;00m \u001b[39mimport\u001b[39;00m Module\n",
      "\u001b[0;31mImportError\u001b[0m: cannot import name 'Qobj' from 'qiskit.qobj' (/home/marcovenere/.local/lib/python3.10/site-packages/qiskit/qobj/__init__.py)",
      "\nDuring handling of the above exception, another exception occurred:\n",
      "\u001b[0;31mImportError\u001b[0m                               Traceback (most recent call last)",
      "\u001b[1;32m/home/marcovenere/monthly-challenges/challenge-2023.04-apr/challenge-2023.04-apr.ipynb Cell 5\u001b[0m line \u001b[0;36m1\n\u001b[1;32m      <a href='vscode-notebook-cell://ssh-remote%2B10.79.6.108/home/marcovenere/monthly-challenges/challenge-2023.04-apr/challenge-2023.04-apr.ipynb#W4sdnNjb2RlLXJlbW90ZQ%3D%3D?line=8'>9</a>\u001b[0m \u001b[39mfrom\u001b[39;00m \u001b[39mdocplex\u001b[39;00m\u001b[39m.\u001b[39;00m\u001b[39mmp\u001b[39;00m\u001b[39m.\u001b[39;00m\u001b[39mmodel\u001b[39;00m \u001b[39mimport\u001b[39;00m Model\n\u001b[1;32m     <a href='vscode-notebook-cell://ssh-remote%2B10.79.6.108/home/marcovenere/monthly-challenges/challenge-2023.04-apr/challenge-2023.04-apr.ipynb#W4sdnNjb2RlLXJlbW90ZQ%3D%3D?line=10'>11</a>\u001b[0m \u001b[39m# Import the libraries needed to employ the QAOA quantum algorithm using OpenQAOA\u001b[39;00m\n\u001b[0;32m---> <a href='vscode-notebook-cell://ssh-remote%2B10.79.6.108/home/marcovenere/monthly-challenges/challenge-2023.04-apr/challenge-2023.04-apr.ipynb#W4sdnNjb2RlLXJlbW90ZQ%3D%3D?line=11'>12</a>\u001b[0m \u001b[39mfrom\u001b[39;00m \u001b[39mopenqaoa\u001b[39;00m \u001b[39mimport\u001b[39;00m QAOA\n\u001b[1;32m     <a href='vscode-notebook-cell://ssh-remote%2B10.79.6.108/home/marcovenere/monthly-challenges/challenge-2023.04-apr/challenge-2023.04-apr.ipynb#W4sdnNjb2RlLXJlbW90ZQ%3D%3D?line=12'>13</a>\u001b[0m \u001b[39m#from openqaoa.problems import Knapsack\u001b[39;00m\n\u001b[1;32m     <a href='vscode-notebook-cell://ssh-remote%2B10.79.6.108/home/marcovenere/monthly-challenges/challenge-2023.04-apr/challenge-2023.04-apr.ipynb#W4sdnNjb2RlLXJlbW90ZQ%3D%3D?line=13'>14</a>\u001b[0m \n\u001b[1;32m     <a href='vscode-notebook-cell://ssh-remote%2B10.79.6.108/home/marcovenere/monthly-challenges/challenge-2023.04-apr/challenge-2023.04-apr.ipynb#W4sdnNjb2RlLXJlbW90ZQ%3D%3D?line=14'>15</a>\u001b[0m \u001b[39m# method to covnert a docplex model to a qubo problem\u001b[39;00m\n\u001b[1;32m     <a href='vscode-notebook-cell://ssh-remote%2B10.79.6.108/home/marcovenere/monthly-challenges/challenge-2023.04-apr/challenge-2023.04-apr.ipynb#W4sdnNjb2RlLXJlbW90ZQ%3D%3D?line=15'>16</a>\u001b[0m \u001b[39mfrom\u001b[39;00m \u001b[39mopenqaoa\u001b[39;00m\u001b[39m.\u001b[39;00m\u001b[39mproblems\u001b[39;00m\u001b[39m.\u001b[39;00m\u001b[39mconverters\u001b[39;00m \u001b[39mimport\u001b[39;00m FromDocplex2IsingModel \u001b[39m#check this method and properties\u001b[39;00m\n",
      "File \u001b[0;32m~/.local/lib/python3.10/site-packages/openqaoa/__init__.py:1\u001b[0m\n\u001b[0;32m----> 1\u001b[0m \u001b[39mfrom\u001b[39;00m \u001b[39m.\u001b[39;00m\u001b[39malgorithms\u001b[39;00m \u001b[39mimport\u001b[39;00m QAOA, RQAOA, QAOABenchmark\n\u001b[1;32m      2\u001b[0m \u001b[39mfrom\u001b[39;00m \u001b[39m.\u001b[39;00m\u001b[39mproblems\u001b[39;00m \u001b[39mimport\u001b[39;00m QUBO\n\u001b[1;32m      3\u001b[0m \u001b[39mfrom\u001b[39;00m \u001b[39m.\u001b[39;00m\u001b[39mbackends\u001b[39;00m \u001b[39mimport\u001b[39;00m create_device\n",
      "File \u001b[0;32m~/.local/lib/python3.10/site-packages/openqaoa/algorithms/__init__.py:1\u001b[0m\n\u001b[0;32m----> 1\u001b[0m \u001b[39mfrom\u001b[39;00m \u001b[39m.\u001b[39;00m\u001b[39mqaoa\u001b[39;00m \u001b[39mimport\u001b[39;00m QAOA, QAOAResult, QAOABenchmark\n\u001b[1;32m      2\u001b[0m \u001b[39mfrom\u001b[39;00m \u001b[39m.\u001b[39;00m\u001b[39mrqaoa\u001b[39;00m \u001b[39mimport\u001b[39;00m RQAOA, RQAOAResult\n",
      "File \u001b[0;32m~/.local/lib/python3.10/site-packages/openqaoa/algorithms/qaoa/__init__.py:1\u001b[0m\n\u001b[0;32m----> 1\u001b[0m \u001b[39mfrom\u001b[39;00m \u001b[39m.\u001b[39;00m\u001b[39mqaoa_workflow\u001b[39;00m \u001b[39mimport\u001b[39;00m QAOA\n\u001b[1;32m      2\u001b[0m \u001b[39mfrom\u001b[39;00m \u001b[39m.\u001b[39;00m\u001b[39mqaoa_result\u001b[39;00m \u001b[39mimport\u001b[39;00m QAOAResult\n\u001b[1;32m      3\u001b[0m \u001b[39mfrom\u001b[39;00m \u001b[39m.\u001b[39;00m\u001b[39mqaoa_benchmark\u001b[39;00m \u001b[39mimport\u001b[39;00m QAOABenchmark\n",
      "File \u001b[0;32m~/.local/lib/python3.10/site-packages/openqaoa/algorithms/qaoa/qaoa_workflow.py:6\u001b[0m\n\u001b[1;32m      3\u001b[0m \u001b[39mimport\u001b[39;00m \u001b[39mnumpy\u001b[39;00m \u001b[39mas\u001b[39;00m \u001b[39mnp\u001b[39;00m\n\u001b[1;32m      5\u001b[0m \u001b[39mfrom\u001b[39;00m \u001b[39m.\u001b[39;00m\u001b[39mqaoa_result\u001b[39;00m \u001b[39mimport\u001b[39;00m QAOAResult\n\u001b[0;32m----> 6\u001b[0m \u001b[39mfrom\u001b[39;00m \u001b[39m.\u001b[39;00m\u001b[39m.\u001b[39;00m\u001b[39mworkflow_properties\u001b[39;00m \u001b[39mimport\u001b[39;00m CircuitProperties\n\u001b[1;32m      7\u001b[0m \u001b[39mfrom\u001b[39;00m \u001b[39m.\u001b[39;00m\u001b[39m.\u001b[39;00m\u001b[39mbaseworkflow\u001b[39;00m \u001b[39mimport\u001b[39;00m Workflow, check_compiled\n\u001b[1;32m      8\u001b[0m \u001b[39mfrom\u001b[39;00m \u001b[39m.\u001b[39;00m\u001b[39m.\u001b[39;00m\u001b[39m.\u001b[39;00m\u001b[39mbackends\u001b[39;00m \u001b[39mimport\u001b[39;00m QAOABackendAnalyticalSimulator\n",
      "File \u001b[0;32m~/.local/lib/python3.10/site-packages/openqaoa/algorithms/workflow_properties.py:7\u001b[0m\n\u001b[1;32m      4\u001b[0m \u001b[39mfrom\u001b[39;00m \u001b[39mscipy\u001b[39;00m\u001b[39m.\u001b[39;00m\u001b[39moptimize\u001b[39;00m\u001b[39m.\u001b[39;00m\u001b[39m_minimize\u001b[39;00m \u001b[39mimport\u001b[39;00m MINIMIZE_METHODS\n\u001b[1;32m      6\u001b[0m \u001b[39mfrom\u001b[39;00m \u001b[39m.\u001b[39;00m\u001b[39m.\u001b[39;00m\u001b[39moptimizers\u001b[39;00m\u001b[39m.\u001b[39;00m\u001b[39mtraining_vqa\u001b[39;00m \u001b[39mimport\u001b[39;00m CustomScipyGradientOptimizer, PennyLaneOptimizer\n\u001b[0;32m----> 7\u001b[0m \u001b[39mfrom\u001b[39;00m \u001b[39m.\u001b[39;00m\u001b[39m.\u001b[39;00m\u001b[39mbackends\u001b[39;00m\u001b[39m.\u001b[39;00m\u001b[39mdevices_core\u001b[39;00m \u001b[39mimport\u001b[39;00m SUPPORTED_LOCAL_SIMULATORS\n\u001b[1;32m      8\u001b[0m \u001b[39mfrom\u001b[39;00m \u001b[39m.\u001b[39;00m\u001b[39m.\u001b[39;00m\u001b[39mbackends\u001b[39;00m\u001b[39m.\u001b[39;00m\u001b[39mbasebackend\u001b[39;00m \u001b[39mimport\u001b[39;00m QuantumCircuitBase\n\u001b[1;32m      9\u001b[0m \u001b[39mfrom\u001b[39;00m \u001b[39m.\u001b[39;00m\u001b[39m.\u001b[39;00m\u001b[39mutilities\u001b[39;00m \u001b[39mimport\u001b[39;00m convert2serialize\n",
      "File \u001b[0;32m~/.local/lib/python3.10/site-packages/openqaoa/backends/__init__.py:18\u001b[0m\n\u001b[1;32m     16\u001b[0m \u001b[39mfrom\u001b[39;00m \u001b[39m.\u001b[39;00m\u001b[39mqaoa_vectorized\u001b[39;00m \u001b[39mimport\u001b[39;00m QAOAvectorizedBackendSimulator\n\u001b[1;32m     17\u001b[0m \u001b[39mfrom\u001b[39;00m \u001b[39m.\u001b[39;00m\u001b[39mqaoa_analytical_sim\u001b[39;00m \u001b[39mimport\u001b[39;00m QAOABackendAnalyticalSimulator\n\u001b[0;32m---> 18\u001b[0m \u001b[39mfrom\u001b[39;00m \u001b[39m.\u001b[39;00m\u001b[39mdevices_core\u001b[39;00m \u001b[39mimport\u001b[39;00m DeviceLocal\n\u001b[1;32m     19\u001b[0m \u001b[39mfrom\u001b[39;00m \u001b[39m.\u001b[39;00m\u001b[39mqaoa_device\u001b[39;00m \u001b[39mimport\u001b[39;00m create_device\n",
      "File \u001b[0;32m~/.local/lib/python3.10/site-packages/openqaoa/backends/devices_core.py:5\u001b[0m\n\u001b[1;32m      2\u001b[0m \u001b[39mimport\u001b[39;00m \u001b[39mnetworkx\u001b[39;00m \u001b[39mas\u001b[39;00m \u001b[39mnx\u001b[39;00m\n\u001b[1;32m      4\u001b[0m \u001b[39mfrom\u001b[39;00m \u001b[39m.\u001b[39;00m\u001b[39mbasedevice\u001b[39;00m \u001b[39mimport\u001b[39;00m DeviceBase\n\u001b[0;32m----> 5\u001b[0m \u001b[39mfrom\u001b[39;00m \u001b[39m.\u001b[39;00m\u001b[39mplugin_finder\u001b[39;00m \u001b[39mimport\u001b[39;00m PLUGIN_DICT\n\u001b[1;32m      8\u001b[0m \u001b[39mdef\u001b[39;00m \u001b[39mobtain_support_simulators\u001b[39m() \u001b[39m-\u001b[39m\u001b[39m>\u001b[39m \u001b[39mlist\u001b[39m:\n\u001b[1;32m      9\u001b[0m \u001b[39m    \u001b[39m\u001b[39m\"\"\"This method returns a list containing the names of simulators supported\u001b[39;00m\n\u001b[1;32m     10\u001b[0m \u001b[39m    by OQ. This list varies depending on the plugins available.\u001b[39;00m\n\u001b[1;32m     11\u001b[0m \u001b[39m    \"\"\"\u001b[39;00m\n",
      "File \u001b[0;32m~/.local/lib/python3.10/site-packages/openqaoa/backends/plugin_finder.py:58\u001b[0m\n\u001b[1;32m     36\u001b[0m     \u001b[39mreturn\u001b[39;00m output_dict\n\u001b[1;32m     39\u001b[0m \u001b[39m#     output_dict = dict()\u001b[39;00m\n\u001b[1;32m     40\u001b[0m \n\u001b[1;32m     41\u001b[0m \u001b[39m#     try:\u001b[39;00m\n\u001b[0;32m   (...)\u001b[0m\n\u001b[1;32m     55\u001b[0m \n\u001b[1;32m     56\u001b[0m \u001b[39m#     return output_dict\u001b[39;00m\n\u001b[0;32m---> 58\u001b[0m PLUGIN_DICT \u001b[39m=\u001b[39m plugin_finder_dict()\n",
      "File \u001b[0;32m~/.local/lib/python3.10/site-packages/openqaoa/backends/plugin_finder.py:21\u001b[0m, in \u001b[0;36mplugin_finder_dict\u001b[0;34m()\u001b[0m\n\u001b[1;32m     19\u001b[0m \u001b[39mfor\u001b[39;00m each_plugin_entry_point \u001b[39min\u001b[39;00m available_plugins:\n\u001b[1;32m     20\u001b[0m     \u001b[39mtry\u001b[39;00m:\n\u001b[0;32m---> 21\u001b[0m         output_dict[each_plugin_entry_point\u001b[39m.\u001b[39mname] \u001b[39m=\u001b[39m each_plugin_entry_point\u001b[39m.\u001b[39;49mload()\n\u001b[1;32m     22\u001b[0m     \u001b[39mexcept\u001b[39;00m \u001b[39mModuleNotFoundError\u001b[39;00m \u001b[39mas\u001b[39;00m e:\n\u001b[1;32m     23\u001b[0m         \u001b[39mprint\u001b[39m(\n\u001b[1;32m     24\u001b[0m             \u001b[39m\"\u001b[39m\u001b[39mThe \u001b[39m\u001b[39m{}\u001b[39;00m\u001b[39m module has not been installed.\u001b[39m\u001b[39m\"\u001b[39m\u001b[39m.\u001b[39mformat(\n\u001b[1;32m     25\u001b[0m                 each_plugin_entry_point\u001b[39m.\u001b[39mname\n\u001b[1;32m     26\u001b[0m             )\n\u001b[1;32m     27\u001b[0m         )\n",
      "File \u001b[0;32m/usr/lib/python3.10/importlib/metadata/__init__.py:171\u001b[0m, in \u001b[0;36mEntryPoint.load\u001b[0;34m(self)\u001b[0m\n\u001b[1;32m    166\u001b[0m \u001b[39m\u001b[39m\u001b[39m\"\"\"Load the entry point from its definition. If only a module\u001b[39;00m\n\u001b[1;32m    167\u001b[0m \u001b[39mis indicated by the value, return that module. Otherwise,\u001b[39;00m\n\u001b[1;32m    168\u001b[0m \u001b[39mreturn the named object.\u001b[39;00m\n\u001b[1;32m    169\u001b[0m \u001b[39m\"\"\"\u001b[39;00m\n\u001b[1;32m    170\u001b[0m match \u001b[39m=\u001b[39m \u001b[39mself\u001b[39m\u001b[39m.\u001b[39mpattern\u001b[39m.\u001b[39mmatch(\u001b[39mself\u001b[39m\u001b[39m.\u001b[39mvalue)\n\u001b[0;32m--> 171\u001b[0m module \u001b[39m=\u001b[39m import_module(match\u001b[39m.\u001b[39;49mgroup(\u001b[39m'\u001b[39;49m\u001b[39mmodule\u001b[39;49m\u001b[39m'\u001b[39;49m))\n\u001b[1;32m    172\u001b[0m attrs \u001b[39m=\u001b[39m \u001b[39mfilter\u001b[39m(\u001b[39mNone\u001b[39;00m, (match\u001b[39m.\u001b[39mgroup(\u001b[39m'\u001b[39m\u001b[39mattr\u001b[39m\u001b[39m'\u001b[39m) \u001b[39mor\u001b[39;00m \u001b[39m'\u001b[39m\u001b[39m'\u001b[39m)\u001b[39m.\u001b[39msplit(\u001b[39m'\u001b[39m\u001b[39m.\u001b[39m\u001b[39m'\u001b[39m))\n\u001b[1;32m    173\u001b[0m \u001b[39mreturn\u001b[39;00m functools\u001b[39m.\u001b[39mreduce(\u001b[39mgetattr\u001b[39m, attrs, module)\n",
      "File \u001b[0;32m/usr/lib/python3.10/importlib/__init__.py:126\u001b[0m, in \u001b[0;36mimport_module\u001b[0;34m(name, package)\u001b[0m\n\u001b[1;32m    124\u001b[0m             \u001b[39mbreak\u001b[39;00m\n\u001b[1;32m    125\u001b[0m         level \u001b[39m+\u001b[39m\u001b[39m=\u001b[39m \u001b[39m1\u001b[39m\n\u001b[0;32m--> 126\u001b[0m \u001b[39mreturn\u001b[39;00m _bootstrap\u001b[39m.\u001b[39;49m_gcd_import(name[level:], package, level)\n",
      "File \u001b[0;32m~/.local/lib/python3.10/site-packages/openqaoa_azure/backend_config.py:1\u001b[0m\n\u001b[0;32m----> 1\u001b[0m \u001b[39mfrom\u001b[39;00m \u001b[39m.\u001b[39;00m\u001b[39mbackends\u001b[39;00m \u001b[39mimport\u001b[39;00m DeviceAzure\n\u001b[1;32m      3\u001b[0m \u001b[39mfrom\u001b[39;00m \u001b[39mopenqaoa_qiskit\u001b[39;00m\u001b[39m.\u001b[39;00m\u001b[39mbackends\u001b[39;00m \u001b[39mimport\u001b[39;00m QAOAQiskitQPUBackend\n\u001b[1;32m      5\u001b[0m device_access \u001b[39m=\u001b[39m {DeviceAzure: QAOAQiskitQPUBackend}\n",
      "File \u001b[0;32m~/.local/lib/python3.10/site-packages/openqaoa_azure/backends/__init__.py:1\u001b[0m\n\u001b[0;32m----> 1\u001b[0m \u001b[39mfrom\u001b[39;00m \u001b[39m.\u001b[39;00m\u001b[39mdevices\u001b[39;00m \u001b[39mimport\u001b[39;00m DeviceAzure\n",
      "File \u001b[0;32m~/.local/lib/python3.10/site-packages/openqaoa_azure/backends/devices.py:3\u001b[0m\n\u001b[1;32m      1\u001b[0m \u001b[39mfrom\u001b[39;00m \u001b[39mtyping\u001b[39;00m \u001b[39mimport\u001b[39;00m List\n\u001b[0;32m----> 3\u001b[0m \u001b[39mfrom\u001b[39;00m \u001b[39mazure\u001b[39;00m\u001b[39m.\u001b[39;00m\u001b[39mquantum\u001b[39;00m\u001b[39m.\u001b[39;00m\u001b[39mqiskit\u001b[39;00m \u001b[39mimport\u001b[39;00m AzureQuantumProvider\n\u001b[1;32m      4\u001b[0m \u001b[39mfrom\u001b[39;00m \u001b[39mopenqaoa\u001b[39;00m\u001b[39m.\u001b[39;00m\u001b[39mbackends\u001b[39;00m\u001b[39m.\u001b[39;00m\u001b[39mdevices_core\u001b[39;00m \u001b[39mimport\u001b[39;00m DeviceBase\n\u001b[1;32m      7\u001b[0m \u001b[39mclass\u001b[39;00m \u001b[39mDeviceAzure\u001b[39;00m(DeviceBase):\n",
      "File \u001b[0;32m~/.local/lib/python3.10/site-packages/azure/quantum/qiskit/__init__.py:8\u001b[0m\n\u001b[1;32m      1\u001b[0m \u001b[39m##\u001b[39;00m\n\u001b[1;32m      2\u001b[0m \u001b[39m# Copyright (c) Microsoft Corporation.\u001b[39;00m\n\u001b[1;32m      3\u001b[0m \u001b[39m# Licensed under the MIT License.\u001b[39;00m\n\u001b[1;32m      4\u001b[0m \u001b[39m##\u001b[39;00m\n\u001b[1;32m      6\u001b[0m \u001b[39m\"\"\"Azure Quantum Qiskit Provider\"\"\"\u001b[39;00m\n\u001b[0;32m----> 8\u001b[0m \u001b[39mfrom\u001b[39;00m \u001b[39m.\u001b[39;00m\u001b[39mprovider\u001b[39;00m \u001b[39mimport\u001b[39;00m AzureQuantumProvider\n\u001b[1;32m      9\u001b[0m \u001b[39mfrom\u001b[39;00m \u001b[39mazure\u001b[39;00m\u001b[39m.\u001b[39;00m\u001b[39mquantum\u001b[39;00m \u001b[39mimport\u001b[39;00m __version__\n\u001b[1;32m     11\u001b[0m __all__ \u001b[39m=\u001b[39m [\n\u001b[1;32m     12\u001b[0m     \u001b[39m\"\u001b[39m\u001b[39mAzureQuantumProvider\u001b[39m\u001b[39m\"\u001b[39m,\n\u001b[1;32m     13\u001b[0m     \u001b[39m\"\u001b[39m\u001b[39m__version__\u001b[39m\u001b[39m\"\u001b[39m\n\u001b[1;32m     14\u001b[0m ]\n",
      "File \u001b[0;32m~/.local/lib/python3.10/site-packages/azure/quantum/qiskit/provider.py:20\u001b[0m\n\u001b[1;32m     18\u001b[0m \u001b[39mfrom\u001b[39;00m \u001b[39mtyping\u001b[39;00m \u001b[39mimport\u001b[39;00m Dict, List, Tuple, Type\n\u001b[1;32m     19\u001b[0m \u001b[39mfrom\u001b[39;00m \u001b[39mazure\u001b[39;00m\u001b[39m.\u001b[39;00m\u001b[39mquantum\u001b[39;00m \u001b[39mimport\u001b[39;00m Workspace\n\u001b[0;32m---> 20\u001b[0m \u001b[39mfrom\u001b[39;00m \u001b[39mazure\u001b[39;00m\u001b[39m.\u001b[39;00m\u001b[39mquantum\u001b[39;00m\u001b[39m.\u001b[39;00m\u001b[39mqiskit\u001b[39;00m\u001b[39m.\u001b[39;00m\u001b[39mbackends\u001b[39;00m\u001b[39m.\u001b[39;00m\u001b[39mbackend\u001b[39;00m \u001b[39mimport\u001b[39;00m AzureBackendBase\n\u001b[1;32m     21\u001b[0m \u001b[39mfrom\u001b[39;00m \u001b[39mazure\u001b[39;00m\u001b[39m.\u001b[39;00m\u001b[39mquantum\u001b[39;00m\u001b[39m.\u001b[39;00m\u001b[39mqiskit\u001b[39;00m\u001b[39m.\u001b[39;00m\u001b[39mjob\u001b[39;00m \u001b[39mimport\u001b[39;00m AzureQuantumJob\n\u001b[1;32m     22\u001b[0m \u001b[39mfrom\u001b[39;00m \u001b[39mazure\u001b[39;00m\u001b[39m.\u001b[39;00m\u001b[39mquantum\u001b[39;00m\u001b[39m.\u001b[39;00m\u001b[39mqiskit\u001b[39;00m\u001b[39m.\u001b[39;00m\u001b[39mbackends\u001b[39;00m \u001b[39mimport\u001b[39;00m \u001b[39m*\u001b[39m\n",
      "File \u001b[0;32m~/.local/lib/python3.10/site-packages/azure/quantum/qiskit/backends/__init__.py:6\u001b[0m\n\u001b[1;32m      1\u001b[0m \u001b[39m##\u001b[39;00m\n\u001b[1;32m      2\u001b[0m \u001b[39m# Copyright (c) Microsoft Corporation.\u001b[39;00m\n\u001b[1;32m      3\u001b[0m \u001b[39m# Licensed under the MIT License.\u001b[39;00m\n\u001b[1;32m      4\u001b[0m \u001b[39m##\u001b[39;00m\n\u001b[0;32m----> 6\u001b[0m \u001b[39mfrom\u001b[39;00m \u001b[39mazure\u001b[39;00m\u001b[39m.\u001b[39;00m\u001b[39mquantum\u001b[39;00m\u001b[39m.\u001b[39;00m\u001b[39mqiskit\u001b[39;00m\u001b[39m.\u001b[39;00m\u001b[39mbackends\u001b[39;00m\u001b[39m.\u001b[39;00m\u001b[39mionq\u001b[39;00m \u001b[39mimport\u001b[39;00m (\n\u001b[1;32m      7\u001b[0m     IonQBackend,\n\u001b[1;32m      8\u001b[0m     IonQQPUBackend,\n\u001b[1;32m      9\u001b[0m     IonQAriaBackend,\n\u001b[1;32m     10\u001b[0m     IonQSimulatorBackend,\n\u001b[1;32m     11\u001b[0m     IonQQPUQirBackend,\n\u001b[1;32m     12\u001b[0m     IonQAriaQirBackend,\n\u001b[1;32m     13\u001b[0m     IonQSimulatorQirBackend,\n\u001b[1;32m     14\u001b[0m )\n\u001b[1;32m     16\u001b[0m \u001b[39mfrom\u001b[39;00m \u001b[39mazure\u001b[39;00m\u001b[39m.\u001b[39;00m\u001b[39mquantum\u001b[39;00m\u001b[39m.\u001b[39;00m\u001b[39mqiskit\u001b[39;00m\u001b[39m.\u001b[39;00m\u001b[39mbackends\u001b[39;00m\u001b[39m.\u001b[39;00m\u001b[39mquantinuum\u001b[39;00m \u001b[39mimport\u001b[39;00m (\n\u001b[1;32m     17\u001b[0m     QuantinuumBackend,\n\u001b[1;32m     18\u001b[0m     QuantinuumQPUBackend,\n\u001b[0;32m   (...)\u001b[0m\n\u001b[1;32m     23\u001b[0m     QuantinuumEmulatorQirBackend,\n\u001b[1;32m     24\u001b[0m )\n\u001b[1;32m     26\u001b[0m \u001b[39mfrom\u001b[39;00m \u001b[39mazure\u001b[39;00m\u001b[39m.\u001b[39;00m\u001b[39mquantum\u001b[39;00m\u001b[39m.\u001b[39;00m\u001b[39mqiskit\u001b[39;00m\u001b[39m.\u001b[39;00m\u001b[39mbackends\u001b[39;00m\u001b[39m.\u001b[39;00m\u001b[39mrigetti\u001b[39;00m \u001b[39mimport\u001b[39;00m (\n\u001b[1;32m     27\u001b[0m     RigettiBackend,\n\u001b[1;32m     28\u001b[0m     RigettiQPUBackend,\n\u001b[1;32m     29\u001b[0m     RigettiSimulatorBackend,\n\u001b[1;32m     30\u001b[0m )\n",
      "File \u001b[0;32m~/.local/lib/python3.10/site-packages/azure/quantum/qiskit/backends/ionq.py:10\u001b[0m\n\u001b[1;32m      7\u001b[0m \u001b[39mfrom\u001b[39;00m \u001b[39mazure\u001b[39;00m\u001b[39m.\u001b[39;00m\u001b[39mquantum\u001b[39;00m\u001b[39m.\u001b[39;00m\u001b[39mtarget\u001b[39;00m\u001b[39m.\u001b[39;00m\u001b[39mionq\u001b[39;00m \u001b[39mimport\u001b[39;00m IonQ\n\u001b[1;32m      8\u001b[0m \u001b[39mfrom\u001b[39;00m \u001b[39mabc\u001b[39;00m \u001b[39mimport\u001b[39;00m abstractmethod\n\u001b[0;32m---> 10\u001b[0m \u001b[39mfrom\u001b[39;00m \u001b[39m.\u001b[39;00m\u001b[39mbackend\u001b[39;00m \u001b[39mimport\u001b[39;00m AzureBackend, AzureQirBackend\n\u001b[1;32m     12\u001b[0m \u001b[39mfrom\u001b[39;00m \u001b[39mqiskit\u001b[39;00m\u001b[39m.\u001b[39;00m\u001b[39mproviders\u001b[39;00m\u001b[39m.\u001b[39;00m\u001b[39mmodels\u001b[39;00m \u001b[39mimport\u001b[39;00m BackendConfiguration\n\u001b[1;32m     13\u001b[0m \u001b[39mfrom\u001b[39;00m \u001b[39mqiskit\u001b[39;00m\u001b[39m.\u001b[39;00m\u001b[39mproviders\u001b[39;00m \u001b[39mimport\u001b[39;00m Options, Provider\n",
      "File \u001b[0;32m~/.local/lib/python3.10/site-packages/azure/quantum/qiskit/backends/backend.py:34\u001b[0m\n\u001b[1;32m     31\u001b[0m     \u001b[39mfrom\u001b[39;00m \u001b[39mqiskit_qir\u001b[39;00m \u001b[39mimport\u001b[39;00m to_qir_module\n\u001b[1;32m     33\u001b[0m \u001b[39mexcept\u001b[39;00m \u001b[39mImportError\u001b[39;00m:\n\u001b[0;32m---> 34\u001b[0m     \u001b[39mraise\u001b[39;00m \u001b[39mImportError\u001b[39;00m(\n\u001b[1;32m     35\u001b[0m         \u001b[39m\"\u001b[39m\u001b[39mMissing optional \u001b[39m\u001b[39m'\u001b[39m\u001b[39mqiskit\u001b[39m\u001b[39m'\u001b[39m\u001b[39m dependencies. \u001b[39m\u001b[39m\\\u001b[39;00m\n\u001b[1;32m     36\u001b[0m \u001b[39mTo install run: pip install azure-quantum[qiskit]\u001b[39m\u001b[39m\"\u001b[39m\n\u001b[1;32m     37\u001b[0m     )\n\u001b[1;32m     40\u001b[0m \u001b[39mclass\u001b[39;00m \u001b[39mAzureBackendBase\u001b[39;00m(Backend, SessionHost):\n\u001b[1;32m     41\u001b[0m     \u001b[39m@abstractmethod\u001b[39m\n\u001b[1;32m     42\u001b[0m     \u001b[39mdef\u001b[39;00m \u001b[39m__init__\u001b[39m(\n\u001b[1;32m     43\u001b[0m         \u001b[39mself\u001b[39m,\n\u001b[0;32m   (...)\u001b[0m\n\u001b[1;32m     46\u001b[0m         \u001b[39m*\u001b[39m\u001b[39m*\u001b[39mfields\n\u001b[1;32m     47\u001b[0m     ):\n",
      "\u001b[0;31mImportError\u001b[0m: Missing optional 'qiskit' dependencies. To install run: pip install azure-quantum[qiskit]"
     ]
    }
   ],
   "source": [
    "%matplotlib notebook\n",
    "\n",
    "# Import external libraries to present an manipulate the data\n",
    "import numpy as np\n",
    "import matplotlib.pyplot as plt\n",
    "import pandas as pd\n",
    "\n",
    "# Import docplex model to generate the problem to optimize\n",
    "from docplex.mp.model import Model\n",
    "\n",
    "# Import the libraries needed to employ the QAOA quantum algorithm using OpenQAOA\n",
    "from openqaoa import QAOA\n",
    "#from openqaoa.problems import Knapsack\n",
    "\n",
    "# method to covnert a docplex model to a qubo problem\n",
    "from openqaoa.problems.converters import FromDocplex2IsingModel #check this method and properties\n",
    "from openqaoa.backends import create_device\n",
    "\n",
    "# method to find the corrects states for the QAOA boject \n",
    "from openqaoa.utilities import ground_state_hamiltonian"
   ]
  },
  {
   "cell_type": "code",
   "execution_count": 5,
   "metadata": {},
   "outputs": [],
   "source": [
    "values =  [3,6,3,4,5]\n",
    "weights = [3,5,6,2,4]\n",
    "max_weight = 13"
   ]
  },
  {
   "cell_type": "code",
   "execution_count": 4,
   "metadata": {},
   "outputs": [],
   "source": [
    "def Knapsack(values,weights, max_weight):\n",
    "    \n",
    "    #init a model\n",
    "    model = openqaoa.problems.Knapsack(values, weights, max_weight)\n",
    "    # indicate the binary variables \n",
    "\n",
    "    # define the objective function\n",
    "\n",
    "    # add  the constraints\n",
    "    return  model#return model, check FromDocplex2IsingModel"
   ]
  },
  {
   "cell_type": "code",
   "execution_count": 9,
   "metadata": {},
   "outputs": [
    {
     "ename": "NameError",
     "evalue": "name 'openqaoa' is not defined",
     "output_type": "error",
     "traceback": [
      "\u001b[0;31m---------------------------------------------------------------------------\u001b[0m",
      "\u001b[0;31mNameError\u001b[0m                                 Traceback (most recent call last)",
      "\u001b[1;32m/home/marcovenere/monthly-challenges/challenge-2023.04-apr/challenge-2023.04-apr.ipynb Cell 8\u001b[0m line \u001b[0;36m1\n\u001b[0;32m----> <a href='vscode-notebook-cell://ssh-remote%2B10.79.6.108/home/marcovenere/monthly-challenges/challenge-2023.04-apr/challenge-2023.04-apr.ipynb#X10sdnNjb2RlLXJlbW90ZQ%3D%3D?line=0'>1</a>\u001b[0m knapsack \u001b[39m=\u001b[39m  Knapsack(values,weights, max_weight)\n\u001b[1;32m      <a href='vscode-notebook-cell://ssh-remote%2B10.79.6.108/home/marcovenere/monthly-challenges/challenge-2023.04-apr/challenge-2023.04-apr.ipynb#X10sdnNjb2RlLXJlbW90ZQ%3D%3D?line=2'>3</a>\u001b[0m \u001b[39m# Ising encoding of the QUBO problem for binpacking problem\u001b[39;00m\n\u001b[1;32m      <a href='vscode-notebook-cell://ssh-remote%2B10.79.6.108/home/marcovenere/monthly-challenges/challenge-2023.04-apr/challenge-2023.04-apr.ipynb#X10sdnNjb2RlLXJlbW90ZQ%3D%3D?line=3'>4</a>\u001b[0m ising_encoding \u001b[39m=\u001b[39m knapsack\u001b[39m.\u001b[39mqubo\n",
      "\u001b[1;32m/home/marcovenere/monthly-challenges/challenge-2023.04-apr/challenge-2023.04-apr.ipynb Cell 8\u001b[0m line \u001b[0;36m4\n\u001b[1;32m      <a href='vscode-notebook-cell://ssh-remote%2B10.79.6.108/home/marcovenere/monthly-challenges/challenge-2023.04-apr/challenge-2023.04-apr.ipynb#X10sdnNjb2RlLXJlbW90ZQ%3D%3D?line=0'>1</a>\u001b[0m \u001b[39mdef\u001b[39;00m \u001b[39mKnapsack\u001b[39m(values,weights, max_weight):\n\u001b[1;32m      <a href='vscode-notebook-cell://ssh-remote%2B10.79.6.108/home/marcovenere/monthly-challenges/challenge-2023.04-apr/challenge-2023.04-apr.ipynb#X10sdnNjb2RlLXJlbW90ZQ%3D%3D?line=1'>2</a>\u001b[0m     \n\u001b[1;32m      <a href='vscode-notebook-cell://ssh-remote%2B10.79.6.108/home/marcovenere/monthly-challenges/challenge-2023.04-apr/challenge-2023.04-apr.ipynb#X10sdnNjb2RlLXJlbW90ZQ%3D%3D?line=2'>3</a>\u001b[0m     \u001b[39m#init a model\u001b[39;00m\n\u001b[0;32m----> <a href='vscode-notebook-cell://ssh-remote%2B10.79.6.108/home/marcovenere/monthly-challenges/challenge-2023.04-apr/challenge-2023.04-apr.ipynb#X10sdnNjb2RlLXJlbW90ZQ%3D%3D?line=3'>4</a>\u001b[0m     model \u001b[39m=\u001b[39m openqaoa\u001b[39m.\u001b[39mproblems\u001b[39m.\u001b[39mKnapsack(values, weights, max_weight)\n\u001b[1;32m      <a href='vscode-notebook-cell://ssh-remote%2B10.79.6.108/home/marcovenere/monthly-challenges/challenge-2023.04-apr/challenge-2023.04-apr.ipynb#X10sdnNjb2RlLXJlbW90ZQ%3D%3D?line=4'>5</a>\u001b[0m     \u001b[39m# indicate the binary variables \u001b[39;00m\n\u001b[1;32m      <a href='vscode-notebook-cell://ssh-remote%2B10.79.6.108/home/marcovenere/monthly-challenges/challenge-2023.04-apr/challenge-2023.04-apr.ipynb#X10sdnNjb2RlLXJlbW90ZQ%3D%3D?line=5'>6</a>\u001b[0m \n\u001b[1;32m      <a href='vscode-notebook-cell://ssh-remote%2B10.79.6.108/home/marcovenere/monthly-challenges/challenge-2023.04-apr/challenge-2023.04-apr.ipynb#X10sdnNjb2RlLXJlbW90ZQ%3D%3D?line=6'>7</a>\u001b[0m     \u001b[39m# define the objective function\u001b[39;00m\n\u001b[1;32m      <a href='vscode-notebook-cell://ssh-remote%2B10.79.6.108/home/marcovenere/monthly-challenges/challenge-2023.04-apr/challenge-2023.04-apr.ipynb#X10sdnNjb2RlLXJlbW90ZQ%3D%3D?line=7'>8</a>\u001b[0m \n\u001b[1;32m      <a href='vscode-notebook-cell://ssh-remote%2B10.79.6.108/home/marcovenere/monthly-challenges/challenge-2023.04-apr/challenge-2023.04-apr.ipynb#X10sdnNjb2RlLXJlbW90ZQ%3D%3D?line=8'>9</a>\u001b[0m     \u001b[39m# add  the constraints\u001b[39;00m\n\u001b[1;32m     <a href='vscode-notebook-cell://ssh-remote%2B10.79.6.108/home/marcovenere/monthly-challenges/challenge-2023.04-apr/challenge-2023.04-apr.ipynb#X10sdnNjb2RlLXJlbW90ZQ%3D%3D?line=9'>10</a>\u001b[0m     \u001b[39mreturn\u001b[39;00m  model\n",
      "\u001b[0;31mNameError\u001b[0m: name 'openqaoa' is not defined"
     ]
    }
   ],
   "source": [
    "knapsack =  Knapsack(values,weights, max_weight)\n",
    "\n",
    "# Ising encoding of the QUBO problem for binpacking problem\n",
    "ising_encoding = knapsack.qubo\n",
    "\n",
    "# Docplex encoding of the QUBO problem for binpacking problem\n",
    "mdl_qubo_docplex = ising_encoding.docplex_model()\n",
    "\n",
    "\n",
    "mdl_qubo_docplex.prettyprint()"
   ]
  },
  {
   "cell_type": "code",
   "execution_count": null,
   "metadata": {},
   "outputs": [],
   "source": [
    "# Initilize the QAOA object\n",
    "qaoa = QAOA()\n",
    "\n",
    "# Set the parameters to work the QAOA algorithm\n",
    "# where n_shots =1024 and  seed_simulator=1\n",
    "\n",
    "\n",
    "#p = 1, a custom type and range from 0 to pi\n",
    "\n",
    "qaoa.compile(ising_encoding)\n",
    "\n",
    "# Run the QAOA algorithm\n",
    "qaoa.optimize()\n",
    "\n",
    "pd.DataFrame(qaoa.result.lowest_cost_bitstrings(5))"
   ]
  },
  {
   "cell_type": "code",
   "execution_count": null,
   "metadata": {},
   "outputs": [],
   "source": [
    "# To find the correct answer using ground_state_hamiltonian\n",
    "# and  the paremeter is a cost_hamiltonian\n",
    "correct_solution = \n",
    "correct_solution"
   ]
  },
  {
   "cell_type": "markdown",
   "metadata": {},
   "source": [
    "Valid your answer using docplex, you can see how to check the classical solution using the following tutorial [here](https://github.com/entropicalabs/openqaoa/blob/main/examples/community_tutorials/02_docplex_example.ipynb) "
   ]
  },
  {
   "cell_type": "code",
   "execution_count": null,
   "metadata": {},
   "outputs": [],
   "source": [
    "## docplex solution\n",
    "sol = mdl_qubo_docplex.solve()\n",
    "mdl_qubo_docplex.print_solution(print_zeros=True)"
   ]
  },
  {
   "cell_type": "markdown",
   "metadata": {},
   "source": [
    "## Part 2: Improve the quantum circuit\n",
    "\n",
    "Perform the same process as above now with the variant of using different backends, p values, and different optimizers until you find the one that can provide the correct answers with the least number of iterations, quantum circuit depth."
   ]
  },
  {
   "cell_type": "code",
   "execution_count": null,
   "metadata": {},
   "outputs": [],
   "source": [
    "## implementation\n",
    "\n",
    "# Initilize the QAOA object and use a device\n",
    "device = create_device(\"local\", 'qiskit.qasm_simulator')\n",
    "\n",
    "\n",
    "qaoa = QAOA(device)\n",
    "\n",
    "# Set the parameters to work the QAOA algorithm\n",
    "# play with the parameters values\n",
    "\n",
    "\n",
    "# Run the QAOA algorithm\n",
    "qaoa.optimize()\n",
    "\n",
    "pd.DataFrame(qaoa.result.lowest_cost_bitstrings(5))"
   ]
  },
  {
   "cell_type": "markdown",
   "metadata": {},
   "source": [
    "## Part 3: Noise Model\n",
    "\n",
    "The optimal combination that you found with the best optimizer, the lowest number of p's and the correct answer, can give the same answer with noise, use the circuit with a noise model and identify if it gives the same answer."
   ]
  },
  {
   "cell_type": "code",
   "execution_count": null,
   "metadata": {},
   "outputs": [],
   "source": [
    "## implementation using a noise model using qiskit \n",
    "\n",
    "## implementation\n",
    "\n",
    "# Initilize the QAOA object\n",
    "\n",
    "## real hardware\n",
    "from qiskit.providers.fake_provider import FakeVigo\n",
    "from qiskit.providers.aer.noise import NoiseModel\n",
    "from qiskit.providers.aer import QasmSimulator\n",
    "\n",
    "\n",
    "device = create_device(\"local\", 'qiskit.qasm_simulator')\n",
    "qaoa = QAOA(device)\n",
    "\n",
    "# Set the parameters to work the QAOA algorithm\n",
    "\n",
    "\n",
    "qaoa.compile(ising_encoding)\n",
    "\n",
    "# Run the QAOA algorithm\n",
    "qaoa.optimize()\n",
    "\n",
    "pd.DataFrame(qaoa.result.lowest_cost_bitstrings(5))"
   ]
  },
  {
   "cell_type": "markdown",
   "metadata": {},
   "source": [
    "## Part 4: New approach\n",
    "\n",
    "There is a heuristic given by the following [paper](https://arxiv.org/pdf/2211.13914.pdf), try to implement it and identify if it can give the same result"
   ]
  },
  {
   "cell_type": "code",
   "execution_count": null,
   "metadata": {},
   "outputs": [],
   "source": [
    "\n",
    "def KnapsackNewApproach(values,weights, max_weight):\n",
    "\n",
    "\n",
    " # indicate the binary variables \n",
    "\n",
    " # define the objective function\n",
    "\n",
    " # add  the constraints\n",
    "    \n",
    "    # new changes\n",
    "    return  #return model and check the method FromDocplex2IsingModel and their parameters"
   ]
  },
  {
   "cell_type": "code",
   "execution_count": null,
   "metadata": {},
   "outputs": [],
   "source": [
    "knapsack_new =  KnapsackNewApproach(values,weights, max_weight)\n",
    "\n",
    "# Ising encoding of the QUBO problem for binpacking problem\n",
    "ising_encoding_new = knapsack_new.ising_model \n",
    "\n",
    "# Docplex encoding of the QUBO problem for binpacking problem\n",
    "mdl_qubo_docplex_new = knapsack_new.qubo_docplex\n",
    "mdl_qubo_docplex_new.prettyprint()"
   ]
  },
  {
   "cell_type": "code",
   "execution_count": null,
   "metadata": {},
   "outputs": [],
   "source": [
    "## implementation\n",
    "## implementation using a noise model using qiskit \n",
    "\n",
    "## implementation\n",
    "\n",
    "# Initilize the QAOA object\n",
    "\n",
    "\n",
    "device = create_device(\"local\", 'qiskit.qasm_simulator')\n",
    "qaoa_new = QAOA(device)\n",
    "\n",
    "# Set the parameters to work the QAOA algorithm\n",
    "\n",
    "qaoa_new.compile(ising_encoding_new)\n",
    "\n",
    "# Run the QAOA algorithm\n",
    "qaoa_new.optimize()\n",
    "\n",
    "pd.DataFrame(qaoa_new.result.lowest_cost_bitstrings(5))"
   ]
  },
  {
   "cell_type": "code",
   "execution_count": null,
   "metadata": {},
   "outputs": [],
   "source": [
    "correct_solution = \n",
    "correct_solution"
   ]
  },
  {
   "cell_type": "code",
   "execution_count": null,
   "metadata": {},
   "outputs": [],
   "source": [
    "## docplex solution\n",
    "sol = mdl_qubo_docplex_new.solve()\n",
    "mdl_qubo_docplex_new.print_solution(print_zeros=True)"
   ]
  },
  {
   "cell_type": "markdown",
   "metadata": {},
   "source": [
    "## Bonus\n",
    "\n",
    "If you completed the notebook and to arrived at this point, congratulations! You did a great job on learning how to design a QUBO into quantum circuit. Remember that you need an account on qBraid and send us a DM to share the credits and to use a real QPU for this challenge and see the limitation of the NISQ era. You can consider and try to contribute to an important part of the quantum community working in the field of quantum optimization😊"
   ]
  },
  {
   "cell_type": "markdown",
   "metadata": {},
   "source": [
    "# Acknowledgments\n",
    "\n",
    "🎉🎉🎉 Special thanks to entropica Labs  for helping us create this challenge and being able to exploit their SDK, OpenQAOA. If you want to know more about OpenQAOA you will see their [discord channel](discord.gg/ana76wkKBd) 🎉🎉🎉 "
   ]
  }
 ],
 "metadata": {
  "kernelspec": {
   "display_name": "qosf_venv",
   "language": "python",
   "name": "python3"
  },
  "language_info": {
   "codemirror_mode": {
    "name": "ipython",
    "version": 3
   },
   "file_extension": ".py",
   "mimetype": "text/x-python",
   "name": "python",
   "nbconvert_exporter": "python",
   "pygments_lexer": "ipython3",
   "version": "3.10.12"
  }
 },
 "nbformat": 4,
 "nbformat_minor": 4
}
