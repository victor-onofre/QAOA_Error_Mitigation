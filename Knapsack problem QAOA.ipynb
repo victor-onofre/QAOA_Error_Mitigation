{
 "cells": [
  {
   "cell_type": "markdown",
   "id": "2ea64caa",
   "metadata": {},
   "source": [
    "# Solving knapsack problem with OpenQAOA"
   ]
  },
  {
   "cell_type": "code",
   "execution_count": 25,
   "id": "ad6faee9",
   "metadata": {},
   "outputs": [],
   "source": [
    "import numpy as np\n",
    "from pprint import pprint\n",
    "import matplotlib.pyplot as plt\n",
    "\n",
    "#import problem classes from OQ for easy problem creation\n",
    "from openqaoa.problems import Knapsack\n",
    "\n",
    "\n",
    "#import the QAOA workflow model\n",
    "from openqaoa import QAOA\n",
    "\n",
    "#import method to specify the device\n",
    "from openqaoa.backends import create_device"
   ]
  },
  {
   "cell_type": "markdown",
   "id": "564b1e08",
   "metadata": {},
   "source": [
    "## Create random knapsack instance"
   ]
  },
  {
   "cell_type": "code",
   "execution_count": 266,
   "id": "f3f01ddc",
   "metadata": {
    "run_control": {
     "marked": false
    }
   },
   "outputs": [
    {
     "name": "stdout",
     "output_type": "stream",
     "text": [
      "cost hamiltonian:\n"
     ]
    },
    {
     "data": {
      "text/latex": [
       "$\\displaystyle -10.5Z_{4} + -11.0Z_{5} + -11.5Z_{2} + -12.0Z_{1} + -5.5Z_{3} + -6.0Z_{0} + 12.0Z_{1}Z_{2} + 12.0Z_{1}Z_{4} + 12.0Z_{1}Z_{5} + 12.0Z_{2}Z_{4} + 12.0Z_{2}Z_{5} + 12.0Z_{4}Z_{5} + 29.5 + 3.0Z_{0}Z_{3} + 6.0Z_{0}Z_{1} + 6.0Z_{0}Z_{2} + 6.0Z_{0}Z_{4} + 6.0Z_{0}Z_{5} + 6.0Z_{1}Z_{3} + 6.0Z_{2}Z_{3} + 6.0Z_{3}Z_{4} + 6.0Z_{3}Z_{5}$"
      ],
      "text/plain": [
       "-10.5Z_{4} - 11.0Z_{5} - 11.5Z_{2} - 12.0Z_{1} - 5.5Z_{3} - 6.0Z_{0} + 12.0Z_{1}Z_{2} + 12.0Z_{1}Z_{4} + 12.0Z_{1}Z_{5} + 12.0Z_{2}Z_{4} + 12.0Z_{2}Z_{5} + 12.0Z_{4}Z_{5} + 29.5 + 3.0Z_{0}Z_{3} + 6.0Z_{0}Z_{1} + 6.0Z_{0}Z_{2} + 6.0Z_{0}Z_{4} + 6.0Z_{0}Z_{5} + 6.0Z_{1}Z_{3} + 6.0Z_{2}Z_{3} + 6.0Z_{3}Z_{4} + 6.0Z_{3}Z_{5}"
      ]
     },
     "execution_count": 266,
     "metadata": {},
     "output_type": "execute_result"
    }
   ],
   "source": [
    "\n",
    "knapsack_prob = Knapsack.random_instance(n_items=4,seed=30)\n",
    "knapsack_qubo = knapsack_prob.qubo\n",
    "\n",
    "print('cost hamiltonian:')\n",
    "knapsack_qubo.hamiltonian.expression"
   ]
  },
  {
   "cell_type": "code",
   "execution_count": 267,
   "id": "323a2270",
   "metadata": {},
   "outputs": [
    {
     "data": {
      "text/plain": [
       "{'terms': [[0, 1],\n",
       "  [2, 3],\n",
       "  [2, 4],\n",
       "  [2, 5],\n",
       "  [3, 4],\n",
       "  [3, 5],\n",
       "  [4, 5],\n",
       "  [0, 2],\n",
       "  [0, 3],\n",
       "  [0, 4],\n",
       "  [0, 5],\n",
       "  [1, 2],\n",
       "  [1, 3],\n",
       "  [1, 4],\n",
       "  [1, 5],\n",
       "  [0],\n",
       "  [1],\n",
       "  [2],\n",
       "  [3],\n",
       "  [4],\n",
       "  [5]],\n",
       " 'weights': [6.0,\n",
       "  6.0,\n",
       "  12.0,\n",
       "  12.0,\n",
       "  6.0,\n",
       "  6.0,\n",
       "  12.0,\n",
       "  6.0,\n",
       "  3.0,\n",
       "  6.0,\n",
       "  6.0,\n",
       "  12.0,\n",
       "  6.0,\n",
       "  12.0,\n",
       "  12.0,\n",
       "  -6.0,\n",
       "  -12.0,\n",
       "  -11.5,\n",
       "  -5.5,\n",
       "  -10.5,\n",
       "  -11.0],\n",
       " 'constant': 29.5,\n",
       " 'n': 6,\n",
       " 'problem_instance': {'problem_type': 'knapsack',\n",
       "  'values': [1, 1, 3, 2],\n",
       "  'weights': [2, 1, 2, 2],\n",
       "  'weight_capacity': 4,\n",
       "  'penalty': 6,\n",
       "  'n_items': 4},\n",
       " 'metadata': {}}"
      ]
     },
     "execution_count": 267,
     "metadata": {},
     "output_type": "execute_result"
    }
   ],
   "source": [
    "knapsack_qubo.asdict()"
   ]
  },
  {
   "cell_type": "markdown",
   "id": "471f6f68",
   "metadata": {},
   "source": [
    " ## Extract exact solution for a small enogh problem"
   ]
  },
  {
   "cell_type": "markdown",
   "id": "6b50789f",
   "metadata": {},
   "source": [
    "https://augustineaykara.github.io/Knapsack-Calculator/"
   ]
  },
  {
   "cell_type": "code",
   "execution_count": 268,
   "id": "b8b8b47d",
   "metadata": {},
   "outputs": [
    {
     "name": "stdout",
     "output_type": "stream",
     "text": [
      "Ground State energy: -5.0, Solution: ['000011']\n",
      "max. profit: 5\n",
      "total weight: 4\n"
     ]
    }
   ],
   "source": [
    "import numpy as np\n",
    "\n",
    "hamiltonian = knapsack_qubo.hamiltonian\n",
    "\n",
    "# import the brute-force solver to obtain exact solution\n",
    "from openqaoa.utilities import ground_state_hamiltonian\n",
    "energy, configuration = ground_state_hamiltonian(hamiltonian)\n",
    "print(f\"Ground State energy: {energy}, Solution: {configuration}\")\n",
    "\n",
    "item_values = np.array(knapsack_qubo.problem_instance.get(\"values\"))\n",
    "item_weights = np.array(knapsack_qubo.problem_instance.get(\"weights\"))\n",
    "solution = list(map(int, list(configuration[0][-4:])))\n",
    "\n",
    "print('max. profit:',np.inner(item_values,solution))\n",
    "print('total weight:',np.inner(item_weights,solution))"
   ]
  },
  {
   "cell_type": "markdown",
   "id": "0e419b6c",
   "metadata": {},
   "source": [
    "## Build the QAOA model"
   ]
  },
  {
   "cell_type": "code",
   "execution_count": 269,
   "id": "67caba2c",
   "metadata": {},
   "outputs": [],
   "source": [
    "# initialize model with default configurations\n",
    "q = QAOA()\n",
    "\n",
    "# device\n",
    "qiskit_device = create_device(location='local', name='qiskit.statevector_simulator')\n",
    "q.set_device(qiskit_device)\n",
    "\n",
    "# circuit properties\n",
    "q.set_circuit_properties(p=7, param_type='standard', init_type='rand', mixer_hamiltonian='x')\n",
    "\n",
    "# backend properties (already set by default)\n",
    "q.set_backend_properties(prepend_state=None, append_state=None)\n",
    "\n",
    "# classical optimizer properties\n",
    "q.set_classical_optimizer(method='cobyla', tol=0.001,maxiter=100,\n",
    "                          optimization_progress=True, cost_progress=True, parameter_log=True)"
   ]
  },
  {
   "cell_type": "code",
   "execution_count": 270,
   "id": "aa18eb70",
   "metadata": {},
   "outputs": [],
   "source": [
    "q.compile(knapsack_qubo)"
   ]
  },
  {
   "cell_type": "code",
   "execution_count": 271,
   "id": "674eb6bb",
   "metadata": {},
   "outputs": [],
   "source": [
    "q.optimize()"
   ]
  },
  {
   "cell_type": "markdown",
   "id": "8a435752",
   "metadata": {},
   "source": [
    "## Accessing the results"
   ]
  },
  {
   "cell_type": "code",
   "execution_count": 273,
   "id": "35a77cb8",
   "metadata": {},
   "outputs": [
    {
     "name": "stdout",
     "output_type": "stream",
     "text": [
      "Most probable states: ['001100']\n",
      "[1, 1, 0, 0]\n",
      "max. profit: 2\n",
      "weight: 3\n",
      "states kept: 40\n"
     ]
    },
    {
     "data": {
      "image/png": "[encoded data removed]",
      "text/plain": [
       "<Figure size 1000x800 with 1 Axes>"
      ]
     },
     "metadata": {},
     "output_type": "display_data"
    }
   ],
   "source": [
    "opt_results = q.result\n",
    "\n",
    "print('Most probable states:',opt_results.most_probable_states['solutions_bitstrings'])\n",
    "\n",
    "item_values = np.array(knapsack_qubo.problem_instance.get(\"values\"))\n",
    "item_weights = np.array(knapsack_qubo.problem_instance.get(\"weights\"))\n",
    "solution = opt_results.most_probable_states['solutions_bitstrings'][0]\n",
    "solution = list(map(int, list(solution[-4:])))\n",
    "print(solution)\n",
    "\n",
    "print('max. profit:',np.inner(item_values,solution))\n",
    "print('weight:',np.inner(item_weights,solution))\n",
    "\n",
    "opt_results.plot_probabilities()"
   ]
  }
 ],
 "metadata": {
  "kernelspec": {
   "display_name": "Python 3 (ipykernel)",
   "language": "python",
   "name": "python3"
  },
  "language_info": {
   "codemirror_mode": {
    "name": "ipython",
    "version": 3
   },
   "file_extension": ".py",
   "mimetype": "text/x-python",
   "name": "python",
   "nbconvert_exporter": "python",
   "pygments_lexer": "ipython3",
   "version": "3.10.11"
  }
 },
 "nbformat": 4,
 "nbformat_minor": 5
}
