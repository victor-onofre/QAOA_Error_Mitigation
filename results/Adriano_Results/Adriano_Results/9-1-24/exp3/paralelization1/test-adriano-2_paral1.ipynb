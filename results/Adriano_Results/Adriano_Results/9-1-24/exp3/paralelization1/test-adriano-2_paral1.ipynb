{
 "cells": [
  {
   "cell_type": "markdown",
   "id": "77a69da7-593a-42f8-9ccf-8cf9c5439f3f",
   "metadata": {},
   "source": [
    "# PARALELIZATION 1"
   ]
  },
  {
   "cell_type": "code",
   "execution_count": 1,
   "id": "72c89e80-f17f-4cfd-a225-3073265e267c",
   "metadata": {},
   "outputs": [
    {
     "name": "stdout",
     "output_type": "stream",
     "text": [
      "{'problem_type': 'knapsack', 'values': [9, 1, 1, 1, 9, 8, 6, 4, 6, 3], 'weights': [5, 6, 1, 1, 4, 1, 2, 6, 7, 6], 'weight_capacity': 16, 'penalty': 18, 'n_items': 10}\n"
     ]
    }
   ],
   "source": [
    "import networkx as nx\n",
    "\n",
    "from openqaoa.problems import Knapsack\n",
    "#Inner OpenQAOA function for ploting graphs\n",
    "#plot_graph(graph)\n",
    "\n",
    "# Create a MaximumCut instance from the graph and get its QUBO and hamiltonian\n",
    "knapsack_prob = Knapsack(values=[9, 1, 1, 1, 9, 8, 6, 4, 6, 3],weights=[5, 6, 1, 1, 4, 1, 2, 6, 7, 6],weight_capacity=16,penalty=18)\n",
    "print(knapsack_prob.problem_instance)\n",
    "knapsack_qubo = knapsack_prob.qubo\n",
    "knapsack_hamiltonian = knapsack_qubo.hamiltonian"
   ]
  },
  {
   "cell_type": "code",
   "execution_count": null,
   "id": "419fc561-f24f-4296-9d68-50160ee75623",
   "metadata": {},
   "outputs": [],
   "source": [
    "{'problem_type': 'knapsack', 'values': [9, 1, 1, 1, 9, 8, 6, 4, 6, 3], 'weights': [5, 6, 1, 1, 4, 1, 2, 6, 7, 6], 'weight_capacity': 16, 'penalty': 18, 'n_items': 10}"
   ]
  },
  {
   "cell_type": "code",
   "execution_count": 2,
   "id": "b99cdcc2-ec23-4623-acd8-ac8ef88ab6a5",
   "metadata": {},
   "outputs": [
    {
     "name": "stderr",
     "output_type": "stream",
     "text": [
      "  0%|                                                                                            | 0/2 [00:00<?, ?it/s]\n",
      "  0%|                                                                                            | 0/3 [00:00<?, ?it/s]\u001b[A\n",
      "\n",
      "  0%|                                                                                            | 0/2 [00:00<?, ?it/s]\u001b[A\u001b[A\n",
      "\n",
      "\n",
      "  0%|                                                                                            | 0/2 [00:00<?, ?it/s]\u001b[A\u001b[A\u001b[A\n",
      "\n",
      "\n",
      "\n",
      "100%|████████████████████████████████████████████████████████████████████████████████████████████| 3/3 [00:00<?, ?it/s]\u001b[A\u001b[A\u001b[A\u001b[A\n"
     ]
    },
    {
     "name": "stdout",
     "output_type": "stream",
     "text": [
      "params = 5-standard-rand-x-Nelder-Mead\n",
      "itr  1\n",
      "params = 5-standard-rand-x-Powell\n",
      "itr  2\n",
      "params = 5-standard-rand-x-COBYLA\n",
      "itr  3\n"
     ]
    },
    {
     "name": "stderr",
     "output_type": "stream",
     "text": [
      "\n",
      "\n",
      "\n",
      "\n",
      "100%|████████████████████████████████████████████████████████████████████████████████████████████| 3/3 [00:00<?, ?it/s]\u001b[A\u001b[A\u001b[A\u001b[A\n",
      "100%|███████████████████████████████████████████████████████████████████████████████████| 2/2 [00:00<00:00, 175.98it/s]\n"
     ]
    },
    {
     "name": "stdout",
     "output_type": "stream",
     "text": [
      "params = 5-standard-rand-xy-Nelder-Mead\n",
      "itr  4\n",
      "params = 5-standard-rand-xy-Powell\n",
      "itr  5\n",
      "params = 5-standard-rand-xy-COBYLA\n",
      "itr  6\n"
     ]
    },
    {
     "name": "stderr",
     "output_type": "stream",
     "text": [
      "\n",
      "\n",
      "\n",
      "  0%|                                                                                            | 0/2 [00:00<?, ?it/s]\u001b[A\u001b[A\u001b[A\n",
      "\n",
      "\n",
      "\n",
      "100%|████████████████████████████████████████████████████████████████████████████████████████████| 3/3 [00:00<?, ?it/s]\u001b[A\u001b[A\u001b[A\u001b[A\n"
     ]
    },
    {
     "name": "stdout",
     "output_type": "stream",
     "text": [
      "params = 5-standard-ramp-x-Nelder-Mead\n",
      "itr  7\n",
      "params = 5-standard-ramp-x-Powell\n",
      "itr  8\n",
      "params = 5-standard-ramp-x-COBYLA\n",
      "itr  9\n"
     ]
    },
    {
     "name": "stderr",
     "output_type": "stream",
     "text": [
      "\n",
      "\n",
      "\n",
      "\n",
      "100%|████████████████████████████████████████████████████████████████████████████████████████████| 3/3 [00:00<?, ?it/s]\u001b[A\u001b[A\u001b[A\u001b[A\n",
      "100%|███████████████████████████████████████████████████████████████████████████████████| 2/2 [00:00<00:00, 289.62it/s]\n",
      "100%|████████████████████████████████████████████████████████████████████████████████████| 2/2 [00:00<00:00, 66.09it/s]\n"
     ]
    },
    {
     "name": "stdout",
     "output_type": "stream",
     "text": [
      "params = 5-standard-ramp-xy-Nelder-Mead\n",
      "itr  10\n",
      "params = 5-standard-ramp-xy-Powell\n",
      "itr  11\n",
      "params = 5-standard-ramp-xy-COBYLA\n",
      "itr  12\n"
     ]
    },
    {
     "name": "stderr",
     "output_type": "stream",
     "text": [
      "\n",
      "\n",
      "  0%|                                                                                            | 0/2 [00:00<?, ?it/s]\u001b[A\u001b[A\n",
      "\n",
      "\n",
      "  0%|                                                                                            | 0/2 [00:00<?, ?it/s]\u001b[A\u001b[A\u001b[A\n",
      "\n",
      "\n",
      "\n",
      "100%|████████████████████████████████████████████████████████████████████████████████████████████| 3/3 [00:00<?, ?it/s]\u001b[A\u001b[A\u001b[A\u001b[A\n"
     ]
    },
    {
     "name": "stdout",
     "output_type": "stream",
     "text": [
      "params = 5-standard_w_bias-rand-x-Nelder-Mead\n",
      "itr  13\n",
      "params = 5-standard_w_bias-rand-x-Powell\n",
      "itr  14\n",
      "params = 5-standard_w_bias-rand-x-COBYLA\n",
      "itr  15\n"
     ]
    },
    {
     "name": "stderr",
     "output_type": "stream",
     "text": [
      "\n",
      "\n",
      "\n",
      "\n",
      "100%|██████████████████████████████████████████████████████████████████████████████████| 3/3 [00:00<00:00, 2998.79it/s]\u001b[A\u001b[A\u001b[A\u001b[A\n",
      "100%|███████████████████████████████████████████████████████████████████████████████████| 2/2 [00:00<00:00, 168.47it/s]\n"
     ]
    },
    {
     "name": "stdout",
     "output_type": "stream",
     "text": [
      "params = 5-standard_w_bias-rand-xy-Nelder-Mead\n",
      "itr  16\n",
      "params = 5-standard_w_bias-rand-xy-Powell\n",
      "itr  17\n",
      "params = 5-standard_w_bias-rand-xy-COBYLA\n",
      "itr  18\n"
     ]
    },
    {
     "name": "stderr",
     "output_type": "stream",
     "text": [
      "\n",
      "\n",
      "\n",
      "  0%|                                                                                            | 0/2 [00:00<?, ?it/s]\u001b[A\u001b[A\u001b[A\n",
      "\n",
      "\n",
      "\n",
      "100%|██████████████████████████████████████████████████████████████████████████████████| 3/3 [00:00<00:00, 5670.53it/s]\u001b[A\u001b[A\u001b[A\u001b[A\n"
     ]
    },
    {
     "name": "stdout",
     "output_type": "stream",
     "text": [
      "params = 5-standard_w_bias-ramp-x-Nelder-Mead\n",
      "itr  19\n",
      "params = 5-standard_w_bias-ramp-x-Powell\n",
      "itr  20\n",
      "params = 5-standard_w_bias-ramp-x-COBYLA\n",
      "itr  21\n"
     ]
    },
    {
     "name": "stderr",
     "output_type": "stream",
     "text": [
      "\n",
      "\n",
      "\n",
      "\n",
      "100%|██████████████████████████████████████████████████████████████████████████████████| 3/3 [00:00<00:00, 3005.23it/s]\u001b[A\u001b[A\u001b[A\u001b[A\n",
      "100%|███████████████████████████████████████████████████████████████████████████████████| 2/2 [00:00<00:00, 157.35it/s]\n",
      "100%|████████████████████████████████████████████████████████████████████████████████████| 2/2 [00:00<00:00, 60.15it/s]\n"
     ]
    },
    {
     "name": "stdout",
     "output_type": "stream",
     "text": [
      "params = 5-standard_w_bias-ramp-xy-Nelder-Mead\n",
      "itr  22\n",
      "params = 5-standard_w_bias-ramp-xy-Powell\n",
      "itr  23\n",
      "params = 5-standard_w_bias-ramp-xy-COBYLA\n",
      "itr  24\n"
     ]
    },
    {
     "name": "stderr",
     "output_type": "stream",
     "text": [
      "\n",
      "\n",
      "  0%|                                                                                            | 0/2 [00:00<?, ?it/s]\u001b[A\u001b[A\n",
      "\n",
      "\n",
      "  0%|                                                                                            | 0/2 [00:00<?, ?it/s]\u001b[A\u001b[A\u001b[A\n",
      "\n",
      "\n",
      "\n",
      "100%|████████████████████████████████████████████████████████████████████████████████████████████| 3/3 [00:00<?, ?it/s]\u001b[A\u001b[A\u001b[A\u001b[A\n"
     ]
    },
    {
     "name": "stdout",
     "output_type": "stream",
     "text": [
      "params = 5-annealing-rand-x-Nelder-Mead\n",
      "itr  25\n",
      "params = 5-annealing-rand-x-Powell\n",
      "itr  26\n",
      "params = 5-annealing-rand-x-COBYLA\n",
      "itr  27\n"
     ]
    },
    {
     "name": "stderr",
     "output_type": "stream",
     "text": [
      "\n",
      "\n",
      "\n",
      "\n",
      "100%|████████████████████████████████████████████████████████████████████████████████████████████| 3/3 [00:00<?, ?it/s]\u001b[A\u001b[A\u001b[A\u001b[A\n",
      "100%|███████████████████████████████████████████████████████████████████████████████████| 2/2 [00:00<00:00, 203.32it/s]\n"
     ]
    },
    {
     "name": "stdout",
     "output_type": "stream",
     "text": [
      "params = 5-annealing-rand-xy-Nelder-Mead\n",
      "itr  28\n",
      "params = 5-annealing-rand-xy-Powell\n",
      "itr  29\n",
      "params = 5-annealing-rand-xy-COBYLA\n",
      "itr  30\n"
     ]
    },
    {
     "name": "stderr",
     "output_type": "stream",
     "text": [
      "\n",
      "\n",
      "\n",
      "  0%|                                                                                            | 0/2 [00:00<?, ?it/s]\u001b[A\u001b[A\u001b[A\n",
      "\n",
      "\n",
      "\n",
      "  0%|                                                                                            | 0/3 [00:00<?, ?it/s]\u001b[A\u001b[A\u001b[A\u001b[A"
     ]
    },
    {
     "name": "stdout",
     "output_type": "stream",
     "text": [
      "params = 5-annealing-ramp-x-Nelder-Mead\n",
      "itr  31\n",
      "params = 5-annealing-ramp-x-Powell\n",
      "itr  32\n",
      "(-34.0, ['01001011111000'])\n"
     ]
    },
    {
     "name": "stderr",
     "output_type": "stream",
     "text": [
      "\n",
      "\n",
      "\n",
      "\n",
      " 67%|██████████████████████████████████████████████████████▋                           | 2/3 [49:44<24:52, 1492.25s/it]\u001b[A\u001b[A\u001b[A\u001b[A"
     ]
    },
    {
     "name": "stdout",
     "output_type": "stream",
     "text": [
      "params = 5-annealing-ramp-x-COBYLA\n",
      "itr  33\n",
      "(-34.0, ['01001011111000'])\n"
     ]
    },
    {
     "name": "stderr",
     "output_type": "stream",
     "text": [
      "\n",
      "\n",
      "\n",
      "\n",
      "100%|██████████████████████████████████████████████████████████████████████████████████| 3/3 [57:38<00:00, 1152.75s/it]\u001b[A\u001b[A\u001b[A\u001b[A\n",
      "\n",
      "\n",
      "\n",
      " 50%|█████████████████████████████████████████                                         | 1/2 [57:38<57:38, 3458.26s/it]\u001b[A\u001b[A\u001b[A\n",
      "\n",
      "\n",
      "\n",
      "  0%|                                                                                            | 0/3 [00:00<?, ?it/s]\u001b[A\u001b[A\u001b[A\u001b[A"
     ]
    },
    {
     "name": "stdout",
     "output_type": "stream",
     "text": [
      "params = 5-annealing-ramp-xy-Nelder-Mead\n",
      "itr  34\n",
      "(-34.0, ['01001011111000'])\n"
     ]
    },
    {
     "name": "stderr",
     "output_type": "stream",
     "text": [
      "\n",
      "\n",
      "\n",
      "\n",
      " 33%|██████████████████████████                                                    | 1/3 [2:21:35<4:43:11, 8495.70s/it]\u001b[A\u001b[A\u001b[A\u001b[A"
     ]
    },
    {
     "name": "stdout",
     "output_type": "stream",
     "text": [
      "params = 5-annealing-ramp-xy-Powell\n",
      "itr  35\n",
      "(-34.0, ['01001011111000'])\n"
     ]
    },
    {
     "name": "stderr",
     "output_type": "stream",
     "text": [
      "\n",
      "\n",
      "\n",
      "\n",
      " 67%|████████████████████████████████████████████████████                          | 2/3 [3:07:40<1:25:24, 5124.52s/it]\u001b[A\u001b[A\u001b[A\u001b[A"
     ]
    },
    {
     "name": "stdout",
     "output_type": "stream",
     "text": [
      "params = 5-annealing-ramp-xy-COBYLA\n",
      "itr  36\n",
      "(-34.0, ['01001011111000'])\n"
     ]
    },
    {
     "name": "stderr",
     "output_type": "stream",
     "text": [
      "\n",
      "\n",
      "\n",
      "\n",
      "100%|████████████████████████████████████████████████████████████████████████████████| 3/3 [3:18:20<00:00, 3966.77s/it]\u001b[A\u001b[A\u001b[A\u001b[A\n",
      "\n",
      "\n",
      "\n",
      "100%|████████████████████████████████████████████████████████████████████████████████| 2/2 [4:15:58<00:00, 7679.30s/it]\u001b[A\u001b[A\u001b[A\n",
      "\n",
      "\n",
      "100%|████████████████████████████████████████████████████████████████████████████████| 2/2 [4:15:58<00:00, 7679.31s/it]\u001b[A\u001b[A\n",
      "\n",
      "100%|████████████████████████████████████████████████████████████████████████████████| 3/3 [4:15:58<00:00, 5119.57s/it]\u001b[A\n",
      " 50%|██████████████████████████████████████▌                                      | 1/2 [4:15:58<4:15:58, 15358.70s/it]\n",
      "  0%|                                                                                            | 0/3 [00:00<?, ?it/s]\u001b[A\n",
      "\n",
      "  0%|                                                                                            | 0/2 [00:00<?, ?it/s]\u001b[A\u001b[A\n",
      "\n",
      "\n",
      "  0%|                                                                                            | 0/2 [00:00<?, ?it/s]\u001b[A\u001b[A\u001b[A\n",
      "\n",
      "\n",
      "\n",
      "  0%|                                                                                            | 0/3 [00:00<?, ?it/s]\u001b[A\u001b[A\u001b[A\u001b[A"
     ]
    },
    {
     "name": "stdout",
     "output_type": "stream",
     "text": [
      "params = 6-standard-rand-x-Nelder-Mead\n",
      "itr  37\n"
     ]
    },
    {
     "name": "stderr",
     "output_type": "stream",
     "text": [
      "\n",
      "\n",
      "\n",
      "\n"
     ]
    },
    {
     "name": "stdout",
     "output_type": "stream",
     "text": [
      "(-34.0, ['01001011111000'])\n"
     ]
    },
    {
     "name": "stderr",
     "output_type": "stream",
     "text": [
      " 33%|██████████████████████████                                                    | 1/3 [1:35:16<3:10:32, 5716.13s/it]\u001b[A\u001b[A\u001b[A\u001b[A"
     ]
    },
    {
     "name": "stdout",
     "output_type": "stream",
     "text": [
      "params = 6-standard-rand-x-Powell\n",
      "itr  38\n"
     ]
    },
    {
     "name": "stderr",
     "output_type": "stream",
     "text": [
      "\n",
      "\n",
      "\n",
      "\n",
      " 67%|███████████████████████████████████████████████████▎                         | 2/3 [5:19:21<2:51:02, 10262.89s/it]\u001b[A\u001b[A\u001b[A\u001b[A"
     ]
    },
    {
     "name": "stdout",
     "output_type": "stream",
     "text": [
      "(-34.0, ['01001011111000'])\n",
      "params = 6-standard-rand-x-COBYLA\n",
      "itr  39\n"
     ]
    },
    {
     "name": "stderr",
     "output_type": "stream",
     "text": [
      "\n",
      "\n",
      "\n",
      "\n",
      "100%|████████████████████████████████████████████████████████████████████████████████| 3/3 [5:33:14<00:00, 6664.82s/it]\u001b[A\u001b[A\u001b[A\u001b[A\n",
      "\n",
      "\n",
      "\n",
      " 50%|██████████████████████████████████████▌                                      | 1/2 [5:33:14<5:33:14, 19994.47s/it]\u001b[A\u001b[A\u001b[A"
     ]
    },
    {
     "name": "stdout",
     "output_type": "stream",
     "text": [
      "(-34.0, ['01001011111000'])\n"
     ]
    },
    {
     "name": "stderr",
     "output_type": "stream",
     "text": [
      "\n",
      "\n",
      "\n",
      "\n",
      "  0%|                                                                                            | 0/3 [00:00<?, ?it/s]\u001b[A\u001b[A\u001b[A\u001b[A"
     ]
    },
    {
     "name": "stdout",
     "output_type": "stream",
     "text": [
      "params = 6-standard-rand-xy-Nelder-Mead\n",
      "itr  40\n",
      "(-34.0, ['01001011111000'])\n"
     ]
    },
    {
     "name": "stderr",
     "output_type": "stream",
     "text": [
      "\n",
      "\n",
      "\n",
      "\n",
      " 33%|██████████████████████████                                                    | 1/3 [2:31:16<5:02:33, 9076.65s/it]\u001b[A\u001b[A\u001b[A\u001b[A"
     ]
    },
    {
     "name": "stdout",
     "output_type": "stream",
     "text": [
      "params = 6-standard-rand-xy-Powell\n",
      "itr  41\n"
     ]
    },
    {
     "name": "stderr",
     "output_type": "stream",
     "text": [
      " 33%|█████████████████████████▋                                                   | 1/3 [4:24:55<8:49:51, 15895.97s/it]\n",
      " 50%|██████████████████████████████████████▌                                      | 1/2 [9:58:10<9:58:10, 35890.47s/it]\n",
      "  0%|                                                                                          | 0/2 [9:58:10<?, ?it/s]\n",
      "  0%|                                                                                          | 0/3 [9:58:10<?, ?it/s]\n",
      " 50%|█████████████████████████████████████▌                                     | 1/2 [14:14:09<14:14:09, 51249.19s/it]\n"
     ]
    },
    {
     "ename": "KeyboardInterrupt",
     "evalue": "",
     "output_type": "error",
     "traceback": [
      "\u001b[1;31m---------------------------------------------------------------------------\u001b[0m",
      "\u001b[1;31mKeyboardInterrupt\u001b[0m                         Traceback (most recent call last)",
      "Cell \u001b[1;32mIn[2], line 34\u001b[0m\n\u001b[0;32m     31\u001b[0m q1\u001b[38;5;241m.\u001b[39mset_classical_optimizer(method\u001b[38;5;241m=\u001b[39moptimizer, maxiter\u001b[38;5;241m=\u001b[39m\u001b[38;5;241m200\u001b[39m, tol\u001b[38;5;241m=\u001b[39m\u001b[38;5;241m0.001\u001b[39m,\n\u001b[0;32m     32\u001b[0m optimization_progress\u001b[38;5;241m=\u001b[39m\u001b[38;5;28;01mTrue\u001b[39;00m, cost_progress\u001b[38;5;241m=\u001b[39m\u001b[38;5;28;01mTrue\u001b[39;00m, parameter_log\u001b[38;5;241m=\u001b[39m\u001b[38;5;28;01mTrue\u001b[39;00m)\n\u001b[0;32m     33\u001b[0m q1\u001b[38;5;241m.\u001b[39mcompile(knapsack_qubo)\n\u001b[1;32m---> 34\u001b[0m \u001b[43mq1\u001b[49m\u001b[38;5;241;43m.\u001b[39;49m\u001b[43moptimize\u001b[49m\u001b[43m(\u001b[49m\u001b[43m)\u001b[49m\n\u001b[0;32m     35\u001b[0m correct_solution1 \u001b[38;5;241m=\u001b[39m ground_state_hamiltonian(q1\u001b[38;5;241m.\u001b[39mcost_hamil)\n\u001b[0;32m     36\u001b[0m \u001b[38;5;28mprint\u001b[39m(correct_solution1)\n",
      "File \u001b[1;32m~\\anaconda3\\envs\\quantum\\lib\\site-packages\\openqaoa\\algorithms\\qaoa\\qaoa_workflow.py:371\u001b[0m, in \u001b[0;36mQAOA.optimize\u001b[1;34m(self, verbose)\u001b[0m\n\u001b[0;32m    368\u001b[0m \u001b[38;5;66;03m# timestamp for the start of the optimization\u001b[39;00m\n\u001b[0;32m    369\u001b[0m \u001b[38;5;28mself\u001b[39m\u001b[38;5;241m.\u001b[39mheader[\u001b[38;5;124m\"\u001b[39m\u001b[38;5;124mexecution_time_start\u001b[39m\u001b[38;5;124m\"\u001b[39m] \u001b[38;5;241m=\u001b[39m generate_timestamp()\n\u001b[1;32m--> 371\u001b[0m \u001b[38;5;28;43mself\u001b[39;49m\u001b[38;5;241;43m.\u001b[39;49m\u001b[43moptimizer\u001b[49m\u001b[38;5;241;43m.\u001b[39;49m\u001b[43moptimize\u001b[49m\u001b[43m(\u001b[49m\u001b[43m)\u001b[49m\n\u001b[0;32m    372\u001b[0m \u001b[38;5;66;03m# TODO: result and qaoa_result will differ\u001b[39;00m\n\u001b[0;32m    373\u001b[0m \u001b[38;5;28mself\u001b[39m\u001b[38;5;241m.\u001b[39mresult \u001b[38;5;241m=\u001b[39m \u001b[38;5;28mself\u001b[39m\u001b[38;5;241m.\u001b[39moptimizer\u001b[38;5;241m.\u001b[39mqaoa_result\n",
      "File \u001b[1;32m~\\anaconda3\\envs\\quantum\\lib\\site-packages\\openqaoa\\optimizers\\training_vqa.py:499\u001b[0m, in \u001b[0;36mScipyOptimizer.optimize\u001b[1;34m(self)\u001b[0m\n\u001b[0;32m    487\u001b[0m             result \u001b[38;5;241m=\u001b[39m minimize(\n\u001b[0;32m    488\u001b[0m                 \u001b[38;5;28mself\u001b[39m\u001b[38;5;241m.\u001b[39moptimize_this,\n\u001b[0;32m    489\u001b[0m                 x0\u001b[38;5;241m=\u001b[39m\u001b[38;5;28mself\u001b[39m\u001b[38;5;241m.\u001b[39minitial_params,\n\u001b[1;32m   (...)\u001b[0m\n\u001b[0;32m    496\u001b[0m                 bounds\u001b[38;5;241m=\u001b[39m\u001b[38;5;28mself\u001b[39m\u001b[38;5;241m.\u001b[39mbounds,\n\u001b[0;32m    497\u001b[0m             )\n\u001b[0;32m    498\u001b[0m     \u001b[38;5;28;01melse\u001b[39;00m:\n\u001b[1;32m--> 499\u001b[0m         result \u001b[38;5;241m=\u001b[39m \u001b[43mminimize\u001b[49m\u001b[43m(\u001b[49m\n\u001b[0;32m    500\u001b[0m \u001b[43m            \u001b[49m\u001b[38;5;28;43mself\u001b[39;49m\u001b[38;5;241;43m.\u001b[39;49m\u001b[43moptimize_this\u001b[49m\u001b[43m,\u001b[49m\n\u001b[0;32m    501\u001b[0m \u001b[43m            \u001b[49m\u001b[43mx0\u001b[49m\u001b[38;5;241;43m=\u001b[39;49m\u001b[38;5;28;43mself\u001b[39;49m\u001b[38;5;241;43m.\u001b[39;49m\u001b[43minitial_params\u001b[49m\u001b[43m,\u001b[49m\n\u001b[0;32m    502\u001b[0m \u001b[43m            \u001b[49m\u001b[43mmethod\u001b[49m\u001b[38;5;241;43m=\u001b[39;49m\u001b[38;5;28;43mself\u001b[39;49m\u001b[38;5;241;43m.\u001b[39;49m\u001b[43mmethod\u001b[49m\u001b[43m,\u001b[49m\n\u001b[0;32m    503\u001b[0m \u001b[43m            \u001b[49m\u001b[43mtol\u001b[49m\u001b[38;5;241;43m=\u001b[39;49m\u001b[38;5;28;43mself\u001b[39;49m\u001b[38;5;241;43m.\u001b[39;49m\u001b[43mtol\u001b[49m\u001b[43m,\u001b[49m\n\u001b[0;32m    504\u001b[0m \u001b[43m            \u001b[49m\u001b[43mconstraints\u001b[49m\u001b[38;5;241;43m=\u001b[39;49m\u001b[38;5;28;43mself\u001b[39;49m\u001b[38;5;241;43m.\u001b[39;49m\u001b[43mconstraints\u001b[49m\u001b[43m,\u001b[49m\n\u001b[0;32m    505\u001b[0m \u001b[43m            \u001b[49m\u001b[43moptions\u001b[49m\u001b[38;5;241;43m=\u001b[39;49m\u001b[38;5;28;43mself\u001b[39;49m\u001b[38;5;241;43m.\u001b[39;49m\u001b[43moptions\u001b[49m\u001b[43m,\u001b[49m\n\u001b[0;32m    506\u001b[0m \u001b[43m            \u001b[49m\u001b[43mbounds\u001b[49m\u001b[38;5;241;43m=\u001b[39;49m\u001b[38;5;28;43mself\u001b[39;49m\u001b[38;5;241;43m.\u001b[39;49m\u001b[43mbounds\u001b[49m\u001b[43m,\u001b[49m\n\u001b[0;32m    507\u001b[0m \u001b[43m        \u001b[49m\u001b[43m)\u001b[49m\n\u001b[0;32m    508\u001b[0m \u001b[38;5;28;01mexcept\u001b[39;00m \u001b[38;5;167;01mConnectionError\u001b[39;00m \u001b[38;5;28;01mas\u001b[39;00m e:\n\u001b[0;32m    509\u001b[0m     \u001b[38;5;28mprint\u001b[39m(e, \u001b[38;5;124m\"\u001b[39m\u001b[38;5;130;01m\\n\u001b[39;00m\u001b[38;5;124m\"\u001b[39m)\n",
      "File \u001b[1;32m~\\anaconda3\\envs\\quantum\\lib\\site-packages\\scipy\\optimize\\_minimize.py:687\u001b[0m, in \u001b[0;36mminimize\u001b[1;34m(fun, x0, args, method, jac, hess, hessp, bounds, constraints, tol, callback, options)\u001b[0m\n\u001b[0;32m    684\u001b[0m     res \u001b[38;5;241m=\u001b[39m _minimize_neldermead(fun, x0, args, callback, bounds\u001b[38;5;241m=\u001b[39mbounds,\n\u001b[0;32m    685\u001b[0m                                \u001b[38;5;241m*\u001b[39m\u001b[38;5;241m*\u001b[39moptions)\n\u001b[0;32m    686\u001b[0m \u001b[38;5;28;01melif\u001b[39;00m meth \u001b[38;5;241m==\u001b[39m \u001b[38;5;124m'\u001b[39m\u001b[38;5;124mpowell\u001b[39m\u001b[38;5;124m'\u001b[39m:\n\u001b[1;32m--> 687\u001b[0m     res \u001b[38;5;241m=\u001b[39m \u001b[43m_minimize_powell\u001b[49m\u001b[43m(\u001b[49m\u001b[43mfun\u001b[49m\u001b[43m,\u001b[49m\u001b[43m \u001b[49m\u001b[43mx0\u001b[49m\u001b[43m,\u001b[49m\u001b[43m \u001b[49m\u001b[43margs\u001b[49m\u001b[43m,\u001b[49m\u001b[43m \u001b[49m\u001b[43mcallback\u001b[49m\u001b[43m,\u001b[49m\u001b[43m \u001b[49m\u001b[43mbounds\u001b[49m\u001b[43m,\u001b[49m\u001b[43m \u001b[49m\u001b[38;5;241;43m*\u001b[39;49m\u001b[38;5;241;43m*\u001b[39;49m\u001b[43moptions\u001b[49m\u001b[43m)\u001b[49m\n\u001b[0;32m    688\u001b[0m \u001b[38;5;28;01melif\u001b[39;00m meth \u001b[38;5;241m==\u001b[39m \u001b[38;5;124m'\u001b[39m\u001b[38;5;124mcg\u001b[39m\u001b[38;5;124m'\u001b[39m:\n\u001b[0;32m    689\u001b[0m     res \u001b[38;5;241m=\u001b[39m _minimize_cg(fun, x0, args, jac, callback, \u001b[38;5;241m*\u001b[39m\u001b[38;5;241m*\u001b[39moptions)\n",
      "File \u001b[1;32m~\\anaconda3\\envs\\quantum\\lib\\site-packages\\scipy\\optimize\\_optimize.py:3346\u001b[0m, in \u001b[0;36m_minimize_powell\u001b[1;34m(func, x0, args, callback, bounds, xtol, ftol, maxiter, maxfev, disp, direc, return_all, **unknown_options)\u001b[0m\n\u001b[0;32m   3344\u001b[0m direc1 \u001b[38;5;241m=\u001b[39m direc[i]\n\u001b[0;32m   3345\u001b[0m fx2 \u001b[38;5;241m=\u001b[39m fval\n\u001b[1;32m-> 3346\u001b[0m fval, x, direc1 \u001b[38;5;241m=\u001b[39m \u001b[43m_linesearch_powell\u001b[49m\u001b[43m(\u001b[49m\u001b[43mfunc\u001b[49m\u001b[43m,\u001b[49m\u001b[43m \u001b[49m\u001b[43mx\u001b[49m\u001b[43m,\u001b[49m\u001b[43m \u001b[49m\u001b[43mdirec1\u001b[49m\u001b[43m,\u001b[49m\n\u001b[0;32m   3347\u001b[0m \u001b[43m                                     \u001b[49m\u001b[43mtol\u001b[49m\u001b[38;5;241;43m=\u001b[39;49m\u001b[43mxtol\u001b[49m\u001b[43m \u001b[49m\u001b[38;5;241;43m*\u001b[39;49m\u001b[43m \u001b[49m\u001b[38;5;241;43m100\u001b[39;49m\u001b[43m,\u001b[49m\n\u001b[0;32m   3348\u001b[0m \u001b[43m                                     \u001b[49m\u001b[43mlower_bound\u001b[49m\u001b[38;5;241;43m=\u001b[39;49m\u001b[43mlower_bound\u001b[49m\u001b[43m,\u001b[49m\n\u001b[0;32m   3349\u001b[0m \u001b[43m                                     \u001b[49m\u001b[43mupper_bound\u001b[49m\u001b[38;5;241;43m=\u001b[39;49m\u001b[43mupper_bound\u001b[49m\u001b[43m,\u001b[49m\n\u001b[0;32m   3350\u001b[0m \u001b[43m                                     \u001b[49m\u001b[43mfval\u001b[49m\u001b[38;5;241;43m=\u001b[39;49m\u001b[43mfval\u001b[49m\u001b[43m)\u001b[49m\n\u001b[0;32m   3351\u001b[0m \u001b[38;5;28;01mif\u001b[39;00m (fx2 \u001b[38;5;241m-\u001b[39m fval) \u001b[38;5;241m>\u001b[39m delta:\n\u001b[0;32m   3352\u001b[0m     delta \u001b[38;5;241m=\u001b[39m fx2 \u001b[38;5;241m-\u001b[39m fval\n",
      "File \u001b[1;32m~\\anaconda3\\envs\\quantum\\lib\\site-packages\\scipy\\optimize\\_optimize.py:3025\u001b[0m, in \u001b[0;36m_linesearch_powell\u001b[1;34m(func, p, xi, tol, lower_bound, upper_bound, fval)\u001b[0m\n\u001b[0;32m   3022\u001b[0m     \u001b[38;5;28;01mreturn\u001b[39;00m ((fval, p, xi) \u001b[38;5;28;01mif\u001b[39;00m fval \u001b[38;5;129;01mis\u001b[39;00m \u001b[38;5;129;01mnot\u001b[39;00m \u001b[38;5;28;01mNone\u001b[39;00m \u001b[38;5;28;01melse\u001b[39;00m (func(p), p, xi))\n\u001b[0;32m   3023\u001b[0m \u001b[38;5;28;01melif\u001b[39;00m lower_bound \u001b[38;5;129;01mis\u001b[39;00m \u001b[38;5;28;01mNone\u001b[39;00m \u001b[38;5;129;01mand\u001b[39;00m upper_bound \u001b[38;5;129;01mis\u001b[39;00m \u001b[38;5;28;01mNone\u001b[39;00m:\n\u001b[0;32m   3024\u001b[0m     \u001b[38;5;66;03m# non-bounded minimization\u001b[39;00m\n\u001b[1;32m-> 3025\u001b[0m     alpha_min, fret, _, _ \u001b[38;5;241m=\u001b[39m \u001b[43mbrent\u001b[49m\u001b[43m(\u001b[49m\u001b[43mmyfunc\u001b[49m\u001b[43m,\u001b[49m\u001b[43m \u001b[49m\u001b[43mfull_output\u001b[49m\u001b[38;5;241;43m=\u001b[39;49m\u001b[38;5;241;43m1\u001b[39;49m\u001b[43m,\u001b[49m\u001b[43m \u001b[49m\u001b[43mtol\u001b[49m\u001b[38;5;241;43m=\u001b[39;49m\u001b[43mtol\u001b[49m\u001b[43m)\u001b[49m\n\u001b[0;32m   3026\u001b[0m     xi \u001b[38;5;241m=\u001b[39m alpha_min \u001b[38;5;241m*\u001b[39m xi\n\u001b[0;32m   3027\u001b[0m     \u001b[38;5;28;01mreturn\u001b[39;00m squeeze(fret), p \u001b[38;5;241m+\u001b[39m xi, xi\n",
      "File \u001b[1;32m~\\anaconda3\\envs\\quantum\\lib\\site-packages\\scipy\\optimize\\_optimize.py:2569\u001b[0m, in \u001b[0;36mbrent\u001b[1;34m(func, args, brack, tol, full_output, maxiter)\u001b[0m\n\u001b[0;32m   2498\u001b[0m \u001b[38;5;250m\u001b[39m\u001b[38;5;124;03m\"\"\"\u001b[39;00m\n\u001b[0;32m   2499\u001b[0m \u001b[38;5;124;03mGiven a function of one variable and a possible bracket, return\u001b[39;00m\n\u001b[0;32m   2500\u001b[0m \u001b[38;5;124;03mthe local minimum of the function isolated to a fractional precision\u001b[39;00m\n\u001b[1;32m   (...)\u001b[0m\n\u001b[0;32m   2565\u001b[0m \n\u001b[0;32m   2566\u001b[0m \u001b[38;5;124;03m\"\"\"\u001b[39;00m\n\u001b[0;32m   2567\u001b[0m options \u001b[38;5;241m=\u001b[39m {\u001b[38;5;124m'\u001b[39m\u001b[38;5;124mxtol\u001b[39m\u001b[38;5;124m'\u001b[39m: tol,\n\u001b[0;32m   2568\u001b[0m            \u001b[38;5;124m'\u001b[39m\u001b[38;5;124mmaxiter\u001b[39m\u001b[38;5;124m'\u001b[39m: maxiter}\n\u001b[1;32m-> 2569\u001b[0m res \u001b[38;5;241m=\u001b[39m \u001b[43m_minimize_scalar_brent\u001b[49m\u001b[43m(\u001b[49m\u001b[43mfunc\u001b[49m\u001b[43m,\u001b[49m\u001b[43m \u001b[49m\u001b[43mbrack\u001b[49m\u001b[43m,\u001b[49m\u001b[43m \u001b[49m\u001b[43margs\u001b[49m\u001b[43m,\u001b[49m\u001b[43m \u001b[49m\u001b[38;5;241;43m*\u001b[39;49m\u001b[38;5;241;43m*\u001b[39;49m\u001b[43moptions\u001b[49m\u001b[43m)\u001b[49m\n\u001b[0;32m   2570\u001b[0m \u001b[38;5;28;01mif\u001b[39;00m full_output:\n\u001b[0;32m   2571\u001b[0m     \u001b[38;5;28;01mreturn\u001b[39;00m res[\u001b[38;5;124m'\u001b[39m\u001b[38;5;124mx\u001b[39m\u001b[38;5;124m'\u001b[39m], res[\u001b[38;5;124m'\u001b[39m\u001b[38;5;124mfun\u001b[39m\u001b[38;5;124m'\u001b[39m], res[\u001b[38;5;124m'\u001b[39m\u001b[38;5;124mnit\u001b[39m\u001b[38;5;124m'\u001b[39m], res[\u001b[38;5;124m'\u001b[39m\u001b[38;5;124mnfev\u001b[39m\u001b[38;5;124m'\u001b[39m]\n",
      "File \u001b[1;32m~\\anaconda3\\envs\\quantum\\lib\\site-packages\\scipy\\optimize\\_optimize.py:2606\u001b[0m, in \u001b[0;36m_minimize_scalar_brent\u001b[1;34m(func, brack, args, xtol, maxiter, disp, **unknown_options)\u001b[0m\n\u001b[0;32m   2603\u001b[0m brent \u001b[38;5;241m=\u001b[39m Brent(func\u001b[38;5;241m=\u001b[39mfunc, args\u001b[38;5;241m=\u001b[39margs, tol\u001b[38;5;241m=\u001b[39mtol,\n\u001b[0;32m   2604\u001b[0m               full_output\u001b[38;5;241m=\u001b[39m\u001b[38;5;28;01mTrue\u001b[39;00m, maxiter\u001b[38;5;241m=\u001b[39mmaxiter, disp\u001b[38;5;241m=\u001b[39mdisp)\n\u001b[0;32m   2605\u001b[0m brent\u001b[38;5;241m.\u001b[39mset_bracket(brack)\n\u001b[1;32m-> 2606\u001b[0m \u001b[43mbrent\u001b[49m\u001b[38;5;241;43m.\u001b[39;49m\u001b[43moptimize\u001b[49m\u001b[43m(\u001b[49m\u001b[43m)\u001b[49m\n\u001b[0;32m   2607\u001b[0m x, fval, nit, nfev \u001b[38;5;241m=\u001b[39m brent\u001b[38;5;241m.\u001b[39mget_result(full_output\u001b[38;5;241m=\u001b[39m\u001b[38;5;28;01mTrue\u001b[39;00m)\n\u001b[0;32m   2609\u001b[0m success \u001b[38;5;241m=\u001b[39m nit \u001b[38;5;241m<\u001b[39m maxiter \u001b[38;5;129;01mand\u001b[39;00m \u001b[38;5;129;01mnot\u001b[39;00m (np\u001b[38;5;241m.\u001b[39misnan(x) \u001b[38;5;129;01mor\u001b[39;00m np\u001b[38;5;241m.\u001b[39misnan(fval))\n",
      "File \u001b[1;32m~\\anaconda3\\envs\\quantum\\lib\\site-packages\\scipy\\optimize\\_optimize.py:2449\u001b[0m, in \u001b[0;36mBrent.optimize\u001b[1;34m(self)\u001b[0m\n\u001b[0;32m   2447\u001b[0m \u001b[38;5;28;01melse\u001b[39;00m:\n\u001b[0;32m   2448\u001b[0m     u \u001b[38;5;241m=\u001b[39m x \u001b[38;5;241m+\u001b[39m rat\n\u001b[1;32m-> 2449\u001b[0m fu \u001b[38;5;241m=\u001b[39m \u001b[43mfunc\u001b[49m\u001b[43m(\u001b[49m\u001b[38;5;241;43m*\u001b[39;49m\u001b[43m(\u001b[49m\u001b[43m(\u001b[49m\u001b[43mu\u001b[49m\u001b[43m,\u001b[49m\u001b[43m)\u001b[49m\u001b[43m \u001b[49m\u001b[38;5;241;43m+\u001b[39;49m\u001b[43m \u001b[49m\u001b[38;5;28;43mself\u001b[39;49m\u001b[38;5;241;43m.\u001b[39;49m\u001b[43margs\u001b[49m\u001b[43m)\u001b[49m\u001b[43m)\u001b[49m      \u001b[38;5;66;03m# calculate new output value\u001b[39;00m\n\u001b[0;32m   2450\u001b[0m funcalls \u001b[38;5;241m+\u001b[39m\u001b[38;5;241m=\u001b[39m \u001b[38;5;241m1\u001b[39m\n\u001b[0;32m   2452\u001b[0m \u001b[38;5;28;01mif\u001b[39;00m (fu \u001b[38;5;241m>\u001b[39m fx):                 \u001b[38;5;66;03m# if it's bigger than current\u001b[39;00m\n",
      "File \u001b[1;32m~\\anaconda3\\envs\\quantum\\lib\\site-packages\\scipy\\optimize\\_optimize.py:3018\u001b[0m, in \u001b[0;36m_linesearch_powell.<locals>.myfunc\u001b[1;34m(alpha)\u001b[0m\n\u001b[0;32m   3017\u001b[0m \u001b[38;5;28;01mdef\u001b[39;00m \u001b[38;5;21mmyfunc\u001b[39m(alpha):\n\u001b[1;32m-> 3018\u001b[0m     \u001b[38;5;28;01mreturn\u001b[39;00m \u001b[43mfunc\u001b[49m\u001b[43m(\u001b[49m\u001b[43mp\u001b[49m\u001b[43m \u001b[49m\u001b[38;5;241;43m+\u001b[39;49m\u001b[43m \u001b[49m\u001b[43malpha\u001b[49m\u001b[38;5;241;43m*\u001b[39;49m\u001b[43mxi\u001b[49m\u001b[43m)\u001b[49m\n",
      "File \u001b[1;32m~\\anaconda3\\envs\\quantum\\lib\\site-packages\\scipy\\optimize\\_optimize.py:569\u001b[0m, in \u001b[0;36m_wrap_scalar_function_maxfun_validation.<locals>.function_wrapper\u001b[1;34m(x, *wrapper_args)\u001b[0m\n\u001b[0;32m    567\u001b[0m ncalls[\u001b[38;5;241m0\u001b[39m] \u001b[38;5;241m+\u001b[39m\u001b[38;5;241m=\u001b[39m \u001b[38;5;241m1\u001b[39m\n\u001b[0;32m    568\u001b[0m \u001b[38;5;66;03m# A copy of x is sent to the user function (gh13740)\u001b[39;00m\n\u001b[1;32m--> 569\u001b[0m fx \u001b[38;5;241m=\u001b[39m \u001b[43mfunction\u001b[49m\u001b[43m(\u001b[49m\u001b[43mnp\u001b[49m\u001b[38;5;241;43m.\u001b[39;49m\u001b[43mcopy\u001b[49m\u001b[43m(\u001b[49m\u001b[43mx\u001b[49m\u001b[43m)\u001b[49m\u001b[43m,\u001b[49m\u001b[43m \u001b[49m\u001b[38;5;241;43m*\u001b[39;49m\u001b[43m(\u001b[49m\u001b[43mwrapper_args\u001b[49m\u001b[43m \u001b[49m\u001b[38;5;241;43m+\u001b[39;49m\u001b[43m \u001b[49m\u001b[43margs\u001b[49m\u001b[43m)\u001b[49m\u001b[43m)\u001b[49m\n\u001b[0;32m    570\u001b[0m \u001b[38;5;66;03m# Ideally, we'd like to a have a true scalar returned from f(x). For\u001b[39;00m\n\u001b[0;32m    571\u001b[0m \u001b[38;5;66;03m# backwards-compatibility, also allow np.array([1.3]),\u001b[39;00m\n\u001b[0;32m    572\u001b[0m \u001b[38;5;66;03m# np.array([[1.3]]) etc.\u001b[39;00m\n\u001b[0;32m    573\u001b[0m \u001b[38;5;28;01mif\u001b[39;00m \u001b[38;5;129;01mnot\u001b[39;00m np\u001b[38;5;241m.\u001b[39misscalar(fx):\n",
      "File \u001b[1;32m~\\anaconda3\\envs\\quantum\\lib\\site-packages\\openqaoa\\optimizers\\training_vqa.py:232\u001b[0m, in \u001b[0;36mOptimizeVQA.optimize_this\u001b[1;34m(self, x, n_shots)\u001b[0m\n\u001b[0;32m    229\u001b[0m     save_parameter(\u001b[38;5;124m\"\u001b[39m\u001b[38;5;124mparam_log\u001b[39m\u001b[38;5;124m\"\u001b[39m, deepcopy(x))\n\u001b[0;32m    231\u001b[0m n_shots_dict \u001b[38;5;241m=\u001b[39m {\u001b[38;5;124m\"\u001b[39m\u001b[38;5;124mn_shots\u001b[39m\u001b[38;5;124m\"\u001b[39m: n_shots} \u001b[38;5;28;01mif\u001b[39;00m n_shots \u001b[38;5;28;01melse\u001b[39;00m {}\n\u001b[1;32m--> 232\u001b[0m callback_cost \u001b[38;5;241m=\u001b[39m \u001b[38;5;28;43mself\u001b[39;49m\u001b[38;5;241;43m.\u001b[39;49m\u001b[43mvqa\u001b[49m\u001b[38;5;241;43m.\u001b[39;49m\u001b[43mexpectation\u001b[49m\u001b[43m(\u001b[49m\u001b[38;5;28;43mself\u001b[39;49m\u001b[38;5;241;43m.\u001b[39;49m\u001b[43mvariational_params\u001b[49m\u001b[43m,\u001b[49m\u001b[43m \u001b[49m\u001b[38;5;241;43m*\u001b[39;49m\u001b[38;5;241;43m*\u001b[39;49m\u001b[43mn_shots_dict\u001b[49m\u001b[43m)\u001b[49m\n\u001b[0;32m    234\u001b[0m log_dict\u001b[38;5;241m.\u001b[39mupdate({\u001b[38;5;124m\"\u001b[39m\u001b[38;5;124mcost\u001b[39m\u001b[38;5;124m\"\u001b[39m: callback_cost})\n\u001b[0;32m    236\u001b[0m current_eval \u001b[38;5;241m=\u001b[39m \u001b[38;5;28mself\u001b[39m\u001b[38;5;241m.\u001b[39mlog\u001b[38;5;241m.\u001b[39mfunc_evals\u001b[38;5;241m.\u001b[39mbest[\u001b[38;5;241m0\u001b[39m]\n",
      "File \u001b[1;32m~\\anaconda3\\envs\\quantum\\lib\\site-packages\\openqaoa\\utilities.py:252\u001b[0m, in \u001b[0;36mround_value.<locals>.wrapper\u001b[1;34m(*args, **kwargs)\u001b[0m\n\u001b[0;32m    251\u001b[0m \u001b[38;5;28;01mdef\u001b[39;00m \u001b[38;5;21mwrapper\u001b[39m(\u001b[38;5;241m*\u001b[39margs, \u001b[38;5;241m*\u001b[39m\u001b[38;5;241m*\u001b[39mkwargs):\n\u001b[1;32m--> 252\u001b[0m     values \u001b[38;5;241m=\u001b[39m \u001b[43mfunction\u001b[49m\u001b[43m(\u001b[49m\u001b[38;5;241;43m*\u001b[39;49m\u001b[43margs\u001b[49m\u001b[43m,\u001b[49m\u001b[43m \u001b[49m\u001b[38;5;241;43m*\u001b[39;49m\u001b[38;5;241;43m*\u001b[39;49m\u001b[43mkwargs\u001b[49m\u001b[43m)\u001b[49m\n\u001b[0;32m    253\u001b[0m     \u001b[38;5;28;01mif\u001b[39;00m \u001b[38;5;28misinstance\u001b[39m(values, \u001b[38;5;28mdict\u001b[39m):\n\u001b[0;32m    254\u001b[0m         \u001b[38;5;28;01mreturn\u001b[39;00m {k: \u001b[38;5;28mround\u001b[39m(v, PRECISION) \u001b[38;5;28;01mfor\u001b[39;00m k, v \u001b[38;5;129;01min\u001b[39;00m values\u001b[38;5;241m.\u001b[39mitems()}\n",
      "File \u001b[1;32m~\\anaconda3\\envs\\quantum\\lib\\site-packages\\openqaoa\\backends\\basebackend.py:282\u001b[0m, in \u001b[0;36mQAOABaseBackend.expectation\u001b[1;34m(self, params, n_shots)\u001b[0m\n\u001b[0;32m    264\u001b[0m \u001b[38;5;129m@round_value\u001b[39m\n\u001b[0;32m    265\u001b[0m \u001b[38;5;28;01mdef\u001b[39;00m \u001b[38;5;21mexpectation\u001b[39m(\u001b[38;5;28mself\u001b[39m, params: QAOAVariationalBaseParams, n_shots\u001b[38;5;241m=\u001b[39m\u001b[38;5;28;01mNone\u001b[39;00m) \u001b[38;5;241m-\u001b[39m\u001b[38;5;241m>\u001b[39m \u001b[38;5;28mfloat\u001b[39m:\n\u001b[0;32m    266\u001b[0m \u001b[38;5;250m    \u001b[39m\u001b[38;5;124;03m\"\"\"\u001b[39;00m\n\u001b[0;32m    267\u001b[0m \u001b[38;5;124;03m    Compute the expectation value w.r.t the Cost Hamiltonian\u001b[39;00m\n\u001b[0;32m    268\u001b[0m \n\u001b[1;32m   (...)\u001b[0m\n\u001b[0;32m    280\u001b[0m \u001b[38;5;124;03m        Expectation value of cost operator wrt to quantum state produced by QAOA circuit\u001b[39;00m\n\u001b[0;32m    281\u001b[0m \u001b[38;5;124;03m    \"\"\"\u001b[39;00m\n\u001b[1;32m--> 282\u001b[0m     counts \u001b[38;5;241m=\u001b[39m \u001b[38;5;28;43mself\u001b[39;49m\u001b[38;5;241;43m.\u001b[39;49m\u001b[43mget_counts\u001b[49m\u001b[43m(\u001b[49m\u001b[43mparams\u001b[49m\u001b[43m,\u001b[49m\u001b[43m \u001b[49m\u001b[43mn_shots\u001b[49m\u001b[43m)\u001b[49m\n\u001b[0;32m    283\u001b[0m     cost \u001b[38;5;241m=\u001b[39m cost_function(\n\u001b[0;32m    284\u001b[0m         counts, \u001b[38;5;28mself\u001b[39m\u001b[38;5;241m.\u001b[39mqaoa_descriptor\u001b[38;5;241m.\u001b[39mcost_hamiltonian, \u001b[38;5;28mself\u001b[39m\u001b[38;5;241m.\u001b[39mcvar_alpha\n\u001b[0;32m    285\u001b[0m     )\n\u001b[0;32m    286\u001b[0m     \u001b[38;5;28;01mreturn\u001b[39;00m cost\n",
      "File \u001b[1;32m~\\anaconda3\\envs\\quantum\\lib\\site-packages\\openqaoa_qiskit\\backends\\qaoa_qiskit_qpu.py:253\u001b[0m, in \u001b[0;36mQAOAQiskitQPUBackend.get_counts\u001b[1;34m(self, params, n_shots)\u001b[0m\n\u001b[0;32m    251\u001b[0m \u001b[38;5;28;01mtry\u001b[39;00m:\n\u001b[0;32m    252\u001b[0m     \u001b[38;5;28mself\u001b[39m\u001b[38;5;241m.\u001b[39mjob_id \u001b[38;5;241m=\u001b[39m job\u001b[38;5;241m.\u001b[39mjob_id()\n\u001b[1;32m--> 253\u001b[0m     counts \u001b[38;5;241m=\u001b[39m \u001b[43mjob\u001b[49m\u001b[38;5;241;43m.\u001b[39;49m\u001b[43mresult\u001b[49m\u001b[43m(\u001b[49m\u001b[43m)\u001b[49m\u001b[38;5;241m.\u001b[39mget_counts()\n\u001b[0;32m    254\u001b[0m     api_contact \u001b[38;5;241m=\u001b[39m \u001b[38;5;28;01mTrue\u001b[39;00m\n\u001b[0;32m    255\u001b[0m     job_state \u001b[38;5;241m=\u001b[39m \u001b[38;5;28;01mTrue\u001b[39;00m\n",
      "File \u001b[1;32m~\\anaconda3\\envs\\quantum\\lib\\site-packages\\qiskit_ibm_provider\\job\\ibm_circuit_job.py:248\u001b[0m, in \u001b[0;36mIBMCircuitJob.result\u001b[1;34m(self, timeout, refresh)\u001b[0m\n\u001b[0;32m    246\u001b[0m \u001b[38;5;66;03m# pylint: disable=arguments-differ\u001b[39;00m\n\u001b[0;32m    247\u001b[0m \u001b[38;5;28;01mif\u001b[39;00m \u001b[38;5;28mself\u001b[39m\u001b[38;5;241m.\u001b[39m_result \u001b[38;5;129;01mis\u001b[39;00m \u001b[38;5;28;01mNone\u001b[39;00m \u001b[38;5;129;01mor\u001b[39;00m refresh:\n\u001b[1;32m--> 248\u001b[0m     \u001b[38;5;28;43mself\u001b[39;49m\u001b[38;5;241;43m.\u001b[39;49m\u001b[43mwait_for_final_state\u001b[49m\u001b[43m(\u001b[49m\u001b[43mtimeout\u001b[49m\u001b[38;5;241;43m=\u001b[39;49m\u001b[43mtimeout\u001b[49m\u001b[43m)\u001b[49m\n\u001b[0;32m    249\u001b[0m     \u001b[38;5;28;01mif\u001b[39;00m \u001b[38;5;28mself\u001b[39m\u001b[38;5;241m.\u001b[39m_status \u001b[38;5;129;01mis\u001b[39;00m JobStatus\u001b[38;5;241m.\u001b[39mCANCELLED:\n\u001b[0;32m    250\u001b[0m         \u001b[38;5;28;01mraise\u001b[39;00m IBMJobInvalidStateError(\n\u001b[0;32m    251\u001b[0m             \u001b[38;5;124m\"\u001b[39m\u001b[38;5;124mUnable to retrieve result for job \u001b[39m\u001b[38;5;132;01m{}\u001b[39;00m\u001b[38;5;124m. \u001b[39m\u001b[38;5;124m\"\u001b[39m\n\u001b[0;32m    252\u001b[0m             \u001b[38;5;124m\"\u001b[39m\u001b[38;5;124mJob was cancelled.\u001b[39m\u001b[38;5;124m\"\u001b[39m\u001b[38;5;241m.\u001b[39mformat(\u001b[38;5;28mself\u001b[39m\u001b[38;5;241m.\u001b[39mjob_id())\n\u001b[0;32m    253\u001b[0m         )\n",
      "File \u001b[1;32m~\\anaconda3\\envs\\quantum\\lib\\site-packages\\qiskit_ibm_provider\\job\\ibm_circuit_job.py:669\u001b[0m, in \u001b[0;36mIBMCircuitJob.wait_for_final_state\u001b[1;34m(self, timeout, wait)\u001b[0m\n\u001b[0;32m    665\u001b[0m         \u001b[38;5;28;01mif\u001b[39;00m timeout \u001b[38;5;129;01mis\u001b[39;00m \u001b[38;5;129;01mnot\u001b[39;00m \u001b[38;5;28;01mNone\u001b[39;00m \u001b[38;5;129;01mand\u001b[39;00m elapsed_time \u001b[38;5;241m>\u001b[39m\u001b[38;5;241m=\u001b[39m timeout:\n\u001b[0;32m    666\u001b[0m             \u001b[38;5;28;01mraise\u001b[39;00m IBMJobTimeoutError(\n\u001b[0;32m    667\u001b[0m                 \u001b[38;5;124mf\u001b[39m\u001b[38;5;124m\"\u001b[39m\u001b[38;5;124mTimed out waiting for job to complete after \u001b[39m\u001b[38;5;132;01m{\u001b[39;00mtimeout\u001b[38;5;132;01m}\u001b[39;00m\u001b[38;5;124m secs.\u001b[39m\u001b[38;5;124m\"\u001b[39m\n\u001b[0;32m    668\u001b[0m             )\n\u001b[1;32m--> 669\u001b[0m         \u001b[43mtime\u001b[49m\u001b[38;5;241;43m.\u001b[39;49m\u001b[43msleep\u001b[49m\u001b[43m(\u001b[49m\u001b[43mwait\u001b[49m\u001b[43m)\u001b[49m\n\u001b[0;32m    670\u001b[0m         status \u001b[38;5;241m=\u001b[39m \u001b[38;5;28mself\u001b[39m\u001b[38;5;241m.\u001b[39mstatus()\n\u001b[0;32m    671\u001b[0m \u001b[38;5;28;01mexcept\u001b[39;00m futures\u001b[38;5;241m.\u001b[39mTimeoutError:\n",
      "\u001b[1;31mKeyboardInterrupt\u001b[0m: "
     ]
    },
    {
     "data": {
      "image/png": "[encoded data removed]",
      "text/plain": [
       "<Figure size 700x400 with 1 Axes>"
      ]
     },
     "metadata": {},
     "output_type": "display_data"
    },
    {
     "data": {
      "image/png": "[encoded data removed]",
      "text/plain": [
       "<Figure size 700x400 with 1 Axes>"
      ]
     },
     "metadata": {},
     "output_type": "display_data"
    },
    {
     "name": "stdout",
     "output_type": "stream",
     "text": [
      "Error in callback <function flush_figures at 0x0000016FB8A614C0> (for post_execute):\n"
     ]
    },
    {
     "name": "stderr",
     "output_type": "stream",
     "text": [
      "\n",
      "KeyboardInterrupt\n",
      "\n"
     ]
    }
   ],
   "source": [
    "from tqdm import tqdm\n",
    "from openqaoa.backends import create_device\n",
    "from openqaoa import QAOA\n",
    "from openqaoa.utilities import ground_state_hamiltonian\n",
    "import matplotlib.pyplot as plt\n",
    "\n",
    "itr = 0\n",
    "yahice = [1,2,3,4,5,6,7,8,9,10,11,12,13,14,15,16,17,18,19,20,21,22,23,24,25,26,27,28,29,30,31]\n",
    "ps = [5, 6]\n",
    "param_types = [\"standard\", \"standard_w_bias\", \"annealing\"]\n",
    "init_types = [\"rand\", \"ramp\"]\n",
    "mixer_hams = [\"x\", \"xy\"]\n",
    "optimizers = [\"Nelder-Mead\", \"Powell\", \"COBYLA\"]\n",
    "for p in tqdm(ps):\n",
    "    for param_type in tqdm(param_types):\n",
    "        for init_type in tqdm(init_types):\n",
    "            for mixer_hamiltonian in tqdm(mixer_hams):\n",
    "                for optimizer in tqdm(optimizers):\n",
    "                    print(\"params = %s-%s-%s-%s-%s\" % (str(p), str(param_type), str(init_type), str(mixer_hamiltonian), str(optimizer)))\n",
    "                    itr = itr+1\n",
    "                    print('itr ',itr)\n",
    "                    if itr in yahice:\n",
    "                        continue\n",
    "                    \n",
    "                    q1 = QAOA()\n",
    "                    #qiskit_device = create_device(location='local', name='qiskit.shot_simulator')\n",
    "                    qiskit_device = create_device(location='ibmq', name='ibmq_qasm_simulator')\n",
    "                    q1.set_device(qiskit_device)\n",
    "                    q1.set_circuit_properties(p=p, param_type=param_type, init_type=init_type, mixer_hamiltonian=mixer_hamiltonian)\n",
    "                    q1.set_backend_properties(n_shots=5000, seed_simulator=1)\n",
    "                    q1.set_classical_optimizer(method=optimizer, maxiter=200, tol=0.001,\n",
    "                    optimization_progress=True, cost_progress=True, parameter_log=True)\n",
    "                    q1.compile(knapsack_qubo)\n",
    "                    q1.optimize()\n",
    "                    correct_solution1 = ground_state_hamiltonian(q1.cost_hamil)\n",
    "                    print(correct_solution1)\n",
    "                    opt_results1 = q1.result\n",
    "                    '''\n",
    "                    noise_model = add_depolarizing_error(NoiseModel(),0.1)\n",
    "                    q2 = QAOA()\n",
    "                    qiskit_device = create_device(location='local', name='qiskit.shot_simulator')\n",
    "                    q2.set_device(qiskit_device)\n",
    "                    q2.set_circuit_properties(p=p, param_type=param_type, init_type=init_type, mixer_hamiltonian=mixer_hamiltonian)\n",
    "                    q2.set_classical_optimizer(method=optimizer, maxiter=200, tol=0.001,\n",
    "                                            optimization_progress=True, cost_progress=True, parameter_log=True)\n",
    "                    q2.set_backend_properties(n_shots=5000, seed_simulator=1,\n",
    "                                            noise_model=noise_model)\n",
    "                    q2.compile(knapsack_qubo)\n",
    "                    q2.optimize()\n",
    "                    correct_solution2 = ground_state_hamiltonian(q2.cost_hamil)\n",
    "                    opt_results2 = q2.result\n",
    "                    print(correct_solution2)\n",
    "                    qiskit_device = create_device(location='local', name='qiskit.shot_simulator')\n",
    "                    q3 = QAOA()\n",
    "                    q3.set_device(qiskit_device)\n",
    "                    q3.set_circuit_properties(p=p, param_type=param_type, init_type=init_type, mixer_hamiltonian=mixer_hamiltonian)\n",
    "                    q3.set_classical_optimizer(method=optimizer, maxiter=200, tol=0.001,\n",
    "                                            optimization_progress=True, cost_progress=True, parameter_log=True)\n",
    "                    q3.set_backend_properties(n_shots=5000, seed_simulator=1, noise_model=noise_model)\n",
    "                    q3.set_error_mitigation_properties(error_mitigation_technique='mitiq_zne',n_batches=64,calibration_data_location=\"caldata.json\")\n",
    "                    q3.compile(knapsack_qubo)\n",
    "                    q3.optimize()\n",
    "                    correct_solution3 = ground_state_hamiltonian(q3.cost_hamil)\n",
    "                    print(correct_solution3)\n",
    "                    opt_results3 = q3.result\n",
    "                    '''\n",
    "                    #plot_cost(opt_results2,)\n",
    "\n",
    "                    fig, ax = plt.subplots(figsize=(7,4))\n",
    "                    opt_results1.plot_cost(figsize=(7,4),color='blue',label='qaoa',ax=ax)\n",
    "                    #opt_results2.plot_cost(figsize=(7,4),color='red',label='qaoa+noise',ax=ax)\n",
    "                    #opt_results3.plot_cost(figsize=(7,4),color='green',label='qaoa+noise+zne',ax=ax)\n",
    "                    plt.savefig(\"%s-%s-%s-%s-%s-1.png\" % (str(p), str(param_type), str(init_type), str(mixer_hamiltonian), str(optimizer)))\n",
    "                    fig2, ax2 = plt.subplots(figsize=(7,4))\n",
    "                    #opt_results2.plot_cost(figsize=(7,4),color='red',label='qaoa+noise',ax=ax2)\n",
    "                    #opt_results3.plot_cost(figsize=(7,4),color='green',label='qaoa+noise+zne',ax=ax2)\n",
    "                    #plt.savefig(\"%s-%s-%s-%s-%s-2.png\" % (str(p), str(param_type), str(init_type), str(mixer_hamiltonian), str(optimizer)))"
   ]
  }
 ],
 "metadata": {
  "kernelspec": {
   "display_name": "Python 3 (ipykernel)",
   "language": "python",
   "name": "python3"
  },
  "language_info": {
   "codemirror_mode": {
    "name": "ipython",
    "version": 3
   },
   "file_extension": ".py",
   "mimetype": "text/x-python",
   "name": "python",
   "nbconvert_exporter": "python",
   "pygments_lexer": "ipython3",
   "version": "3.8.18"
  }
 },
 "nbformat": 4,
 "nbformat_minor": 5
}
