{
 "cells": [
  {
   "cell_type": "markdown",
   "id": "d0c97479-b8ec-483d-a579-223b23bb40e9",
   "metadata": {},
   "source": [
    "# Problem 1 - Trying different penalty values"
   ]
  },
  {
   "cell_type": "markdown",
   "id": "6e968c51-9a11-4aba-8e69-c7bdaf8c51ac",
   "metadata": {},
   "source": [
    "This experiment is related with experiments from 19-1-24. For the first knapsack instance, we will try different penalty values, and solve this instance with the lowest cost parameter combination."
   ]
  },
  {
   "cell_type": "markdown",
   "id": "237c2799-fefa-4e93-95ad-04c2bb57f49c",
   "metadata": {},
   "source": [
    "### Problem instance"
   ]
  },
  {
   "cell_type": "markdown",
   "id": "74776f0f-5bd1-4f23-946b-09b8c116c85b",
   "metadata": {},
   "source": [
    "{'problem_type': 'knapsack', 'values': [4, 1, 4, 2, 2], 'weights': [4, 2, 4, 1, 3], 'weight_capacity': 7, 'penalty': $<variable>$, 'n_items': 5}\n"
   ]
  },
  {
   "cell_type": "markdown",
   "id": "353ffb9c-f336-4d61-b88e-142908ea8f87",
   "metadata": {},
   "source": [
    "The original problem instances was tested with $penalty = 8$."
   ]
  },
  {
   "cell_type": "markdown",
   "id": "bebbd55a-962e-4c31-a3a2-91e2534efd13",
   "metadata": {},
   "source": [
    "### QAOA lowest cost parameters"
   ]
  },
  {
   "cell_type": "markdown",
   "id": "0f425229-565c-49c7-9e94-fffbe9baca0e",
   "metadata": {},
   "source": [
    "4-standard-rand-x-Powell"
   ]
  },
  {
   "cell_type": "markdown",
   "id": "be5e388a-fd5f-4123-b428-4728798ecf49",
   "metadata": {},
   "source": [
    "## Experiment"
   ]
  },
  {
   "cell_type": "code",
   "execution_count": null,
   "id": "dfceb9eb-9ac0-4855-b839-8716988a3f67",
   "metadata": {},
   "outputs": [],
   "source": [
    "from tqdm import tqdm\n",
    "from openqaoa.backends import create_device\n",
    "from openqaoa import QAOA\n",
    "from openqaoa.utilities import ground_state_hamiltonian\n",
    "import matplotlib.pyplot as plt\n",
    "import json\n",
    "from openqaoa.problems import Knapsack\n",
    "\n",
    "\n",
    "penalties = [1,3,6,8,10,20]\n",
    "opt_results = []\n",
    "colors = ['red','blue','green','yellow','brown','purple']\n",
    "\n",
    "for penalty in penalties:\n",
    "    knapsack_prob = Knapsack(values=[4, 1, 4, 2, 2],weights=[4, 2, 4, 1, 3],weight_capacity=7,penalty=penalty)\n",
    "    print(knapsack_prob.problem_instance)\n",
    "    knapsack_qubo = knapsack_prob.qubo\n",
    "    knapsack_hamiltonian = knapsack_qubo.hamiltonian\n",
    "\n",
    "    qiskit_device = create_device(location='ibmq', name='ibmq_qasm_simulator')\n",
    "    q1 = QAOA()\n",
    "    q1.set_device(qiskit_device)\n",
    "    q1.set_circuit_properties(p=4, param_type='standard', init_type='rand', mixer_hamiltonian='x')\n",
    "    q1.set_backend_properties(n_shots=5000, seed_simulator=1)\n",
    "    q1.set_classical_optimizer(method='Powell', maxfev=250,maxiter=200, tol=0.01,\n",
    "    optimization_progress=True, cost_progress=True, parameter_log=True)\n",
    "    q1.compile(knapsack_qubo)\n",
    "    q1.optimize()\n",
    "    opt_results1 = q1.result\n",
    "    opt_results.append(opt_results1)\n",
    "    \n",
    "    #export jsons\n",
    "    with open('prob1_4-standard-rand-x-Powell_penalty=%s.json'% (str(penalty)), 'w') as archivo:\n",
    "        json.dump(opt_results1.asdict(), archivo)\n",
    "\n",
    "fig, ax = plt.subplots(figsize=(12,8))\n",
    "for i in range(len(opt_results)):\n",
    "    opt_results[i].plot_cost(color=colors[i],label='penalty:'+str(penalties[i]),ax=ax)\n",
    "       \n",
    "plt.savefig('prob1_4-standard-rand-x-Powell_differentPenalties.png', bbox_inches='tight')"
   ]
  },
  {
   "cell_type": "markdown",
   "id": "6239904d-256f-4041-8a40-c65dba3198ac",
   "metadata": {},
   "source": [
    "## Analyzing the results"
   ]
  },
  {
   "cell_type": "code",
   "execution_count": 33,
   "id": "4ed94041-d7de-444a-ab4f-21dc6c70ccbd",
   "metadata": {},
   "outputs": [
    {
     "name": "stdout",
     "output_type": "stream",
     "text": [
      "The solutions found with brute force are ['00011010', '00001110'] with an energy of -7.0\n"
     ]
    }
   ],
   "source": [
    "from openqaoa.utilities import ground_state_hamiltonian\n",
    "energy, configuration = ground_state_hamiltonian(knapsack_hamiltonian)\n",
    "print(f\"The solutions found with brute force are {configuration} with an energy of {energy}\")"
   ]
  },
  {
   "cell_type": "code",
   "execution_count": 34,
   "id": "54640a11-5341-4bb1-a00f-006176d9bc9b",
   "metadata": {},
   "outputs": [],
   "source": [
    "import json\n",
    "from openqaoa.algorithms import QAOAResult\n",
    "from openqaoa.qaoa_components import Hamiltonian\n",
    "\n",
    "results = []\n",
    "for penalty in penalties:\n",
    "    with open('prob1_4-standard-rand-x-Powell_penalty=%s.json'%str(penalty), 'r') as file:\n",
    "        data = json.load(file)\n",
    "    cost_hamiltonian = data['cost_hamiltonian']\n",
    "    cost_hamiltonian = Hamiltonian.classical_hamiltonian(knapsack_qubo.terms,cost_hamiltonian['coeffs'],cost_hamiltonian['constant'])\n",
    "\n",
    "    result = QAOAResult.from_dict(data,cost_hamiltonian)\n",
    "    results.append(result)\n",
    "\n",
    "    #result.plot_cost(figsize=(8,4),label='penalty=%s'%str(penalty))"
   ]
  },
  {
   "cell_type": "code",
   "execution_count": 35,
   "id": "cd9fe51d-4479-4df1-a870-cc07ea7e2505",
   "metadata": {},
   "outputs": [
    {
     "name": "stdout",
     "output_type": "stream",
     "text": [
      "The solutions found with brute force are ['00011010', '00001110'] with an energy of -7.0\n",
      "\n",
      "Penalty: 1\n",
      "The most probable state/s are 10010110 with an energy of -1.0\n",
      "\n",
      "Penalty: 3\n",
      "The most probable state/s are 11001010 with an energy of 0.0\n",
      "\n",
      "Penalty: 6\n",
      "The most probable state/s are 01001011 with an energy of 1.0\n",
      "\n",
      "Penalty: 8\n",
      "The most probable state/s are 11010100 with an energy of 120.0\n",
      "\n",
      "Penalty: 10\n",
      "The most probable state/s are 00100000 with an energy of 90.0\n",
      "\n",
      "Penalty: 20\n",
      "The most probable state/s are 11000001 with an energy of 18.0\n",
      "\n"
     ]
    }
   ],
   "source": [
    "print(f\"The solutions found with brute force are {configuration} with an energy of {energy}\")\n",
    "print()\n",
    "\n",
    "pen_index = 0\n",
    "for result in results:\n",
    "    print('Penalty:',penalties[pen_index])\n",
    "    most_probable_states = ''\n",
    "    for i in result.most_probable_states['solutions_bitstrings']:\n",
    "        most_probable_states += i + ','\n",
    "    most_probable_states = most_probable_states[:-1]\n",
    "    print('The most probable state/s are',most_probable_states,'with an energy of',result.most_probable_states['bitstring_energy'])\n",
    "    print()\n",
    "\n",
    "    lowest_cost_bitstrings = result.lowest_cost_bitstrings(2)\n",
    "    pen_index= pen_index+1"
   ]
  },
  {
   "cell_type": "markdown",
   "id": "c65dc70c-5de3-470c-b6df-5aece71ee85b",
   "metadata": {},
   "source": [
    "## Conclussions"
   ]
  },
  {
   "cell_type": "markdown",
   "id": "95b07f67-cdc2-4520-9e21-8899dfe13000",
   "metadata": {},
   "source": [
    "First of all, is important to notice that the configuration for $penalty=8$ has a particular bad optimization.The configuration with this penalty was the one that, in previous experiments, has the lowest cost. This shows that, nonetheless,this is an heuristical method that could not work in some optimizations.\n",
    "\n",
    "Another fact we observe is than, from $penalty=8$ to bigger penalties, the bitstring energy of the most probable solution is way more worse than for smaller penalties.\n",
    "\n",
    "It would be interesting to try for $penalty=1 \\lor 3 \\lor 6$ if the observable bitstring energies keep the same through multiple optimization. Also, try the same for $penalty=8$, and compare if there is a consistent improvement on smaller penalties."
   ]
  }
 ],
 "metadata": {
  "kernelspec": {
   "display_name": "Python 3 (ipykernel)",
   "language": "python",
   "name": "python3"
  },
  "language_info": {
   "codemirror_mode": {
    "name": "ipython",
    "version": 3
   },
   "file_extension": ".py",
   "mimetype": "text/x-python",
   "name": "python",
   "nbconvert_exporter": "python",
   "pygments_lexer": "ipython3",
   "version": "3.8.18"
  }
 },
 "nbformat": 4,
 "nbformat_minor": 5
}
