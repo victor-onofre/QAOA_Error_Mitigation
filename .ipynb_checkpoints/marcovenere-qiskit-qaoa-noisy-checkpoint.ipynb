{
 "cells": [
  {
   "cell_type": "markdown",
   "metadata": {},
   "source": [
    "# MAxCut solved with QAOA on QISKIT: Noise Model + Mitiq ZNE + OpenQAOA"
   ]
  },
  {
   "cell_type": "code",
   "execution_count": 3,
   "metadata": {},
   "outputs": [],
   "source": [
    "from __future__ import annotations"
   ]
  },
  {
   "cell_type": "markdown",
   "metadata": {},
   "source": [
    "Let's define the input graph for the MaxCut"
   ]
  },
  {
   "cell_type": "code",
   "execution_count": 4,
   "metadata": {},
   "outputs": [],
   "source": [
    "import numpy as np\n",
    "import networkx as nx\n",
    "\n",
    "num_nodes = 4\n",
    "w = np.array([[0., 1., 1., 0.],\n",
    "              [1., 0., 1., 1.],\n",
    "              [1., 1., 0., 1.],\n",
    "              [0., 1., 1., 0.]])\n",
    "G = nx.from_numpy_array(w)"
   ]
  },
  {
   "cell_type": "markdown",
   "metadata": {},
   "source": [
    "Let's represent the graph"
   ]
  },
  {
   "cell_type": "code",
   "execution_count": 5,
   "metadata": {},
   "outputs": [
    {
     "data": {
      "image/png": "[encoded data removed]",
      "text/plain": [
       "<Figure size 640x480 with 1 Axes>"
      ]
     },
     "metadata": {},
     "output_type": "display_data"
    }
   ],
   "source": [
    "layout = nx.random_layout(G, seed=10)\n",
    "colors = ['r', 'g', 'b', 'y']\n",
    "nx.draw(G, layout, node_color=colors)\n",
    "labels = nx.get_edge_attributes(G, 'weight')\n",
    "nx.draw_networkx_edge_labels(G, pos=layout, edge_labels=labels);"
   ]
  },
  {
   "cell_type": "markdown",
   "metadata": {},
   "source": [
    "Utilities to solve the problem classically via brute-forcing"
   ]
  },
  {
   "cell_type": "code",
   "execution_count": 6,
   "metadata": {},
   "outputs": [
    {
     "name": "stdout",
     "output_type": "stream",
     "text": [
      "Objective value computed by the brute-force method is 3\n"
     ]
    }
   ],
   "source": [
    "def objective_value(x: np.ndarray, w: np.ndarray) -> float:\n",
    "    \"\"\"Compute the value of a cut.\n",
    "    Args:\n",
    "        x: Binary string as numpy array.\n",
    "        w: Adjacency matrix.\n",
    "    Returns:\n",
    "        Value of the cut.\n",
    "    \"\"\"\n",
    "    X = np.outer(x, (1 - x))\n",
    "    w_01 = np.where(w != 0, 1, 0)\n",
    "    return np.sum(w_01 * X)\n",
    "\n",
    "def bitfield(n: int, L: int) -> list[int]:\n",
    "    result = np.binary_repr(n, L)\n",
    "    return [int(digit) for digit in result]  # [2:] to chop off the \"0b\" part\n",
    "\n",
    "# use the brute-force way to generate the oracle\n",
    "L = num_nodes\n",
    "max = 2**L\n",
    "sol = np.inf\n",
    "for i in range(max):\n",
    "    cur = bitfield(i, L)\n",
    "\n",
    "    how_many_nonzero = np.count_nonzero(cur)\n",
    "    if how_many_nonzero * 2 != L:  # not balanced\n",
    "        continue\n",
    "\n",
    "    cur_v = objective_value(np.array(cur), w)\n",
    "    if cur_v < sol:\n",
    "        sol = cur_v\n",
    "\n",
    "print(f'Objective value computed by the brute-force method is {sol}')"
   ]
  },
  {
   "cell_type": "markdown",
   "metadata": {},
   "source": [
    "Let's build the quantum circuit"
   ]
  },
  {
   "cell_type": "code",
   "execution_count": 7,
   "metadata": {},
   "outputs": [
    {
     "name": "stderr",
     "output_type": "stream",
     "text": [
      "/tmp/ipykernel_144828/3998253988.py:8: FutureWarning: adjacency_matrix will return a scipy.sparse array instead of a matrix in Networkx 3.0.\n",
      "  adjacency = nx.adjacency_matrix(G).todense()\n"
     ]
    },
    {
     "data": {
      "text/html": [
       "<pre style=\"word-wrap: normal;white-space: pre;background: #fff0;line-height: 1.1;font-family: &quot;Courier New&quot;,Courier,monospace\">     ┌───────────────┐\n",
       "q_0: ┤ Rx(2*$\\beta$) ├\n",
       "     ├───────────────┤\n",
       "q_1: ┤ Rx(2*$\\beta$) ├\n",
       "     ├───────────────┤\n",
       "q_2: ┤ Rx(2*$\\beta$) ├\n",
       "     ├───────────────┤\n",
       "q_3: ┤ Rx(2*$\\beta$) ├\n",
       "     └───────────────┘</pre>"
      ],
      "text/plain": [
       "     ┌───────────────┐\n",
       "q_0: ┤ Rx(2*$\\beta$) ├\n",
       "     ├───────────────┤\n",
       "q_1: ┤ Rx(2*$\\beta$) ├\n",
       "     ├───────────────┤\n",
       "q_2: ┤ Rx(2*$\\beta$) ├\n",
       "     ├───────────────┤\n",
       "q_3: ┤ Rx(2*$\\beta$) ├\n",
       "     └───────────────┘"
      ]
     },
     "execution_count": 7,
     "metadata": {},
     "output_type": "execute_result"
    }
   ],
   "source": [
    "from qiskit import QuantumCircuit, ClassicalRegister, QuantumRegister\n",
    "from qiskit import Aer, execute\n",
    "from qiskit.circuit import Parameter\n",
    "\n",
    "# Adjacency is essentially a matrix which tells you which nodes are\n",
    "# connected. This matrix is given as a sparse matrix, so we need to\n",
    "# convert it to a dense matrix\n",
    "adjacency = nx.adjacency_matrix(G).todense()\n",
    "\n",
    "nqubits = 4\n",
    "\n",
    "beta = Parameter(\"$\\\\beta$\")\n",
    "qc_mix = QuantumCircuit(nqubits)\n",
    "for i in range(0, nqubits):\n",
    "    qc_mix.rx(2 * beta, i)\n",
    "\n",
    "qc_mix.draw()"
   ]
  },
  {
   "cell_type": "code",
   "execution_count": 8,
   "metadata": {},
   "outputs": [
    {
     "data": {
      "text/html": [
       "<pre style=\"word-wrap: normal;white-space: pre;background: #fff0;line-height: 1.1;font-family: &quot;Courier New&quot;,Courier,monospace\">                                  ░                              ░      »\n",
       "q_0: ──■──────────────────────■───░───■──────────────────────■───░──────»\n",
       "     ┌─┴─┐┌────────────────┐┌─┴─┐ ░   │                      │   ░      »\n",
       "q_1: ┤ X ├┤ Rz(2*$\\gamma$) ├┤ X ├─░───┼──────────────────────┼───░───■──»\n",
       "     └───┘└────────────────┘└───┘ ░ ┌─┴─┐┌────────────────┐┌─┴─┐ ░ ┌─┴─┐»\n",
       "q_2: ─────────────────────────────░─┤ X ├┤ Rz(2*$\\gamma$) ├┤ X ├─░─┤ X ├»\n",
       "                                  ░ └───┘└────────────────┘└───┘ ░ └───┘»\n",
       "q_3: ─────────────────────────────░──────────────────────────────░──────»\n",
       "                                  ░                              ░      »\n",
       "«                             ░                              ░      »\n",
       "«q_0: ────────────────────────░──────────────────────────────░──────»\n",
       "«                             ░                              ░      »\n",
       "«q_1: ────────────────────■───░───■──────────────────────■───░──────»\n",
       "«     ┌────────────────┐┌─┴─┐ ░   │                      │   ░      »\n",
       "«q_2: ┤ Rz(2*$\\gamma$) ├┤ X ├─░───┼──────────────────────┼───░───■──»\n",
       "«     └────────────────┘└───┘ ░ ┌─┴─┐┌────────────────┐┌─┴─┐ ░ ┌─┴─┐»\n",
       "«q_3: ────────────────────────░─┤ X ├┤ Rz(2*$\\gamma$) ├┤ X ├─░─┤ X ├»\n",
       "«                             ░ └───┘└────────────────┘└───┘ ░ └───┘»\n",
       "«                             ░ \n",
       "«q_0: ────────────────────────░─\n",
       "«                             ░ \n",
       "«q_1: ────────────────────────░─\n",
       "«                             ░ \n",
       "«q_2: ────────────────────■───░─\n",
       "«     ┌────────────────┐┌─┴─┐ ░ \n",
       "«q_3: ┤ Rz(2*$\\gamma$) ├┤ X ├─░─\n",
       "«     └────────────────┘└───┘ ░ </pre>"
      ],
      "text/plain": [
       "                                  ░                              ░      »\n",
       "q_0: ──■──────────────────────■───░───■──────────────────────■───░──────»\n",
       "     ┌─┴─┐┌────────────────┐┌─┴─┐ ░   │                      │   ░      »\n",
       "q_1: ┤ X ├┤ Rz(2*$\\gamma$) ├┤ X ├─░───┼──────────────────────┼───░───■──»\n",
       "     └───┘└────────────────┘└───┘ ░ ┌─┴─┐┌────────────────┐┌─┴─┐ ░ ┌─┴─┐»\n",
       "q_2: ─────────────────────────────░─┤ X ├┤ Rz(2*$\\gamma$) ├┤ X ├─░─┤ X ├»\n",
       "                                  ░ └───┘└────────────────┘└───┘ ░ └───┘»\n",
       "q_3: ─────────────────────────────░──────────────────────────────░──────»\n",
       "                                  ░                              ░      »\n",
       "«                             ░                              ░      »\n",
       "«q_0: ────────────────────────░──────────────────────────────░──────»\n",
       "«                             ░                              ░      »\n",
       "«q_1: ────────────────────■───░───■──────────────────────■───░──────»\n",
       "«     ┌────────────────┐┌─┴─┐ ░   │                      │   ░      »\n",
       "«q_2: ┤ Rz(2*$\\gamma$) ├┤ X ├─░───┼──────────────────────┼───░───■──»\n",
       "«     └────────────────┘└───┘ ░ ┌─┴─┐┌────────────────┐┌─┴─┐ ░ ┌─┴─┐»\n",
       "«q_3: ────────────────────────░─┤ X ├┤ Rz(2*$\\gamma$) ├┤ X ├─░─┤ X ├»\n",
       "«                             ░ └───┘└────────────────┘└───┘ ░ └───┘»\n",
       "«                             ░ \n",
       "«q_0: ────────────────────────░─\n",
       "«                             ░ \n",
       "«q_1: ────────────────────────░─\n",
       "«                             ░ \n",
       "«q_2: ────────────────────■───░─\n",
       "«     ┌────────────────┐┌─┴─┐ ░ \n",
       "«q_3: ┤ Rz(2*$\\gamma$) ├┤ X ├─░─\n",
       "«     └────────────────┘└───┘ ░ "
      ]
     },
     "execution_count": 8,
     "metadata": {},
     "output_type": "execute_result"
    }
   ],
   "source": [
    "gamma = Parameter(\"$\\\\gamma$\")\n",
    "qc_p = QuantumCircuit(nqubits)\n",
    "for pair in list(G.edges()):  # pairs of nodes\n",
    "    qc_p.rzz(2 * gamma, pair[0], pair[1])\n",
    "    qc_p.barrier()\n",
    "\n",
    "qc_p.decompose().draw()"
   ]
  },
  {
   "cell_type": "code",
   "execution_count": 9,
   "metadata": {},
   "outputs": [
    {
     "data": {
      "text/html": [
       "<pre style=\"word-wrap: normal;white-space: pre;background: #fff0;line-height: 1.1;font-family: &quot;Courier New&quot;,Courier,monospace\">     ┌───┐\n",
       "q_0: ┤ H ├\n",
       "     ├───┤\n",
       "q_1: ┤ H ├\n",
       "     ├───┤\n",
       "q_2: ┤ H ├\n",
       "     ├───┤\n",
       "q_3: ┤ H ├\n",
       "     └───┘</pre>"
      ],
      "text/plain": [
       "     ┌───┐\n",
       "q_0: ┤ H ├\n",
       "     ├───┤\n",
       "q_1: ┤ H ├\n",
       "     ├───┤\n",
       "q_2: ┤ H ├\n",
       "     ├───┤\n",
       "q_3: ┤ H ├\n",
       "     └───┘"
      ]
     },
     "execution_count": 9,
     "metadata": {},
     "output_type": "execute_result"
    }
   ],
   "source": [
    "qc_0 = QuantumCircuit(nqubits)\n",
    "for i in range(0, nqubits):\n",
    "    qc_0.h(i)\n",
    "\n",
    "qc_0.draw()"
   ]
  },
  {
   "cell_type": "code",
   "execution_count": 10,
   "metadata": {},
   "outputs": [
    {
     "data": {
      "text/html": [
       "<pre style=\"word-wrap: normal;white-space: pre;background: #fff0;line-height: 1.1;font-family: &quot;Courier New&quot;,Courier,monospace\">     ┌─────────┐┌────────────────┐                             ░      »\n",
       "q_0: ┤ U2(0,π) ├┤ R(2*$\\beta$,0) ├──■──────────────────────■───░───■──»\n",
       "     ├─────────┤├────────────────┤┌─┴─┐┌────────────────┐┌─┴─┐ ░   │  »\n",
       "q_1: ┤ U2(0,π) ├┤ R(2*$\\beta$,0) ├┤ X ├┤ Rz(2*$\\gamma$) ├┤ X ├─░───┼──»\n",
       "     ├─────────┤├────────────────┤└───┘└────────────────┘└───┘ ░ ┌─┴─┐»\n",
       "q_2: ┤ U2(0,π) ├┤ R(2*$\\beta$,0) ├─────────────────────────────░─┤ X ├»\n",
       "     ├─────────┤├────────────────┤                             ░ └───┘»\n",
       "q_3: ┤ U2(0,π) ├┤ R(2*$\\beta$,0) ├─────────────────────────────░──────»\n",
       "     └─────────┘└────────────────┘                             ░      »\n",
       "«                             ░                              ░      »\n",
       "«q_0: ────────────────────■───░──────────────────────────────░──────»\n",
       "«                         │   ░                              ░      »\n",
       "«q_1: ────────────────────┼───░───■──────────────────────■───░───■──»\n",
       "«     ┌────────────────┐┌─┴─┐ ░ ┌─┴─┐┌────────────────┐┌─┴─┐ ░   │  »\n",
       "«q_2: ┤ Rz(2*$\\gamma$) ├┤ X ├─░─┤ X ├┤ Rz(2*$\\gamma$) ├┤ X ├─░───┼──»\n",
       "«     └────────────────┘└───┘ ░ └───┘└────────────────┘└───┘ ░ ┌─┴─┐»\n",
       "«q_3: ────────────────────────░──────────────────────────────░─┤ X ├»\n",
       "«                             ░                              ░ └───┘»\n",
       "«                             ░                              ░ \n",
       "«q_0: ────────────────────────░──────────────────────────────░─\n",
       "«                             ░                              ░ \n",
       "«q_1: ────────────────────■───░──────────────────────────────░─\n",
       "«                         │   ░                              ░ \n",
       "«q_2: ────────────────────┼───░───■──────────────────────■───░─\n",
       "«     ┌────────────────┐┌─┴─┐ ░ ┌─┴─┐┌────────────────┐┌─┴─┐ ░ \n",
       "«q_3: ┤ Rz(2*$\\gamma$) ├┤ X ├─░─┤ X ├┤ Rz(2*$\\gamma$) ├┤ X ├─░─\n",
       "«     └────────────────┘└───┘ ░ └───┘└────────────────┘└───┘ ░ </pre>"
      ],
      "text/plain": [
       "     ┌─────────┐┌────────────────┐                             ░      »\n",
       "q_0: ┤ U2(0,π) ├┤ R(2*$\\beta$,0) ├──■──────────────────────■───░───■──»\n",
       "     ├─────────┤├────────────────┤┌─┴─┐┌────────────────┐┌─┴─┐ ░   │  »\n",
       "q_1: ┤ U2(0,π) ├┤ R(2*$\\beta$,0) ├┤ X ├┤ Rz(2*$\\gamma$) ├┤ X ├─░───┼──»\n",
       "     ├─────────┤├────────────────┤└───┘└────────────────┘└───┘ ░ ┌─┴─┐»\n",
       "q_2: ┤ U2(0,π) ├┤ R(2*$\\beta$,0) ├─────────────────────────────░─┤ X ├»\n",
       "     ├─────────┤├────────────────┤                             ░ └───┘»\n",
       "q_3: ┤ U2(0,π) ├┤ R(2*$\\beta$,0) ├─────────────────────────────░──────»\n",
       "     └─────────┘└────────────────┘                             ░      »\n",
       "«                             ░                              ░      »\n",
       "«q_0: ────────────────────■───░──────────────────────────────░──────»\n",
       "«                         │   ░                              ░      »\n",
       "«q_1: ────────────────────┼───░───■──────────────────────■───░───■──»\n",
       "«     ┌────────────────┐┌─┴─┐ ░ ┌─┴─┐┌────────────────┐┌─┴─┐ ░   │  »\n",
       "«q_2: ┤ Rz(2*$\\gamma$) ├┤ X ├─░─┤ X ├┤ Rz(2*$\\gamma$) ├┤ X ├─░───┼──»\n",
       "«     └────────────────┘└───┘ ░ └───┘└────────────────┘└───┘ ░ ┌─┴─┐»\n",
       "«q_3: ────────────────────────░──────────────────────────────░─┤ X ├»\n",
       "«                             ░                              ░ └───┘»\n",
       "«                             ░                              ░ \n",
       "«q_0: ────────────────────────░──────────────────────────────░─\n",
       "«                             ░                              ░ \n",
       "«q_1: ────────────────────■───░──────────────────────────────░─\n",
       "«                         │   ░                              ░ \n",
       "«q_2: ────────────────────┼───░───■──────────────────────■───░─\n",
       "«     ┌────────────────┐┌─┴─┐ ░ ┌─┴─┐┌────────────────┐┌─┴─┐ ░ \n",
       "«q_3: ┤ Rz(2*$\\gamma$) ├┤ X ├─░─┤ X ├┤ Rz(2*$\\gamma$) ├┤ X ├─░─\n",
       "«     └────────────────┘└───┘ ░ └───┘└────────────────┘└───┘ ░ "
      ]
     },
     "execution_count": 10,
     "metadata": {},
     "output_type": "execute_result"
    }
   ],
   "source": [
    "qc_qaoa = QuantumCircuit(nqubits)\n",
    "\n",
    "qc_qaoa.append(qc_0, [i for i in range(0, nqubits)])\n",
    "qc_qaoa.append(qc_mix, [i for i in range(0, nqubits)])\n",
    "qc_qaoa.append(qc_p, [i for i in range(0, nqubits)])\n",
    "\n",
    "qc_qaoa.decompose().decompose().draw()"
   ]
  },
  {
   "cell_type": "markdown",
   "metadata": {},
   "source": [
    "Let's import Mitiq "
   ]
  },
  {
   "cell_type": "code",
   "execution_count": 41,
   "metadata": {},
   "outputs": [],
   "source": [
    "from mitiq.benchmarks import generate_rb_circuits\n",
    "from mitiq.zne import execute_with_zne\n",
    "from mitiq.zne.scaling import (\n",
    "    fold_gates_at_random,\n",
    "    fold_global,\n",
    "    fold_all\n",
    ")\n",
    "from mitiq.zne.inference import LinearFactory, RichardsonFactory\n",
    "from mitiq import (\n",
    "    Calibrator,\n",
    "    Settings,\n",
    "    execute_with_mitigation,\n",
    "    MeasurementResult,\n",
    ")\n",
    "\n",
    "from mitiq.zne import mitigate_executor"
   ]
  },
  {
   "cell_type": "markdown",
   "metadata": {},
   "source": [
    "Let's define a noise model"
   ]
  },
  {
   "cell_type": "code",
   "execution_count": 18,
   "metadata": {},
   "outputs": [],
   "source": [
    "# Import from Qiskit Aer noise module\n",
    "from qiskit_aer.noise import (NoiseModel, QuantumError, ReadoutError,\n",
    "    pauli_error, depolarizing_error, thermal_relaxation_error)\n",
    "\n",
    "# Example error probabilities\n",
    "p_reset = 0.03\n",
    "p_meas = 0.1\n",
    "p_gate1 = 0.05\n",
    "\n",
    "# QuantumError objects\n",
    "error_reset = pauli_error([('X', p_reset), ('I', 1 - p_reset)])\n",
    "error_meas = pauli_error([('X',p_meas), ('I', 1 - p_meas)])\n",
    "error_gate1 = pauli_error([('X',p_gate1), ('I', 1 - p_gate1)])\n",
    "error_gate2 = error_gate1.tensor(error_gate1)\n",
    "\n",
    "# Add errors to noise model\n",
    "noise_bit_flip = NoiseModel()\n",
    "noise_bit_flip.add_all_qubit_quantum_error(error_reset, \"reset\")\n",
    "noise_bit_flip.add_all_qubit_quantum_error(error_meas, \"measure\")\n",
    "noise_bit_flip.add_all_qubit_quantum_error(error_gate1, [\"u1\", \"u2\", \"u3\"])\n",
    "noise_bit_flip.add_all_qubit_quantum_error(error_gate2, [\"cx\"])"
   ]
  },
  {
   "cell_type": "code",
   "execution_count": 20,
   "metadata": {},
   "outputs": [],
   "source": [
    "from qiskit_aer import AerSimulator\n",
    "noisy_backend = AerSimulator(noise_model=noise_bit_flip)"
   ]
  },
  {
   "cell_type": "markdown",
   "metadata": {},
   "source": [
    "Let's define some utility functions"
   ]
  },
  {
   "cell_type": "code",
   "execution_count": 31,
   "metadata": {},
   "outputs": [],
   "source": [
    "def maxcut_obj(x, G):\n",
    "    \"\"\"\n",
    "    Given a bitstring as a solution, this function returns\n",
    "    the number of edges shared between the two partitions\n",
    "    of the graph.\n",
    "\n",
    "    Args:\n",
    "        x: str\n",
    "           solution bitstring\n",
    "\n",
    "        G: networkx graph\n",
    "\n",
    "    Returns:\n",
    "        obj: float\n",
    "             Objective\n",
    "    \"\"\"\n",
    "    obj = 0\n",
    "    for i, j in G.edges():\n",
    "        if x[i] != x[j]:\n",
    "            obj -= 1\n",
    "\n",
    "    return obj\n",
    "\n",
    "\n",
    "def compute_expectation(counts, G):\n",
    "\n",
    "    \"\"\"\n",
    "    Computes expectation value based on measurement results\n",
    "\n",
    "    Args:\n",
    "        counts: dict\n",
    "                key as bitstring, val as count\n",
    "\n",
    "        G: networkx graph\n",
    "\n",
    "    Returns:\n",
    "        avg: float\n",
    "             expectation value\n",
    "    \"\"\"\n",
    "\n",
    "    avg = 0\n",
    "    sum_count = 0\n",
    "    for bitstring, count in counts.items():\n",
    "\n",
    "        obj = maxcut_obj(bitstring, G)\n",
    "        avg += obj * count\n",
    "        sum_count += count\n",
    "\n",
    "    return avg/sum_count\n",
    "\n",
    "\n",
    "# We will also bring the different circuit components that\n",
    "# build the qaoa circuit under a single function\n",
    "def create_qaoa_circ(G, theta):\n",
    "\n",
    "    \"\"\"\n",
    "    Creates a parametrized qaoa circuit\n",
    "\n",
    "    Args:\n",
    "        G: networkx graph\n",
    "        theta: list\n",
    "               unitary parameters\n",
    "\n",
    "    Returns:\n",
    "        qc: qiskit circuit\n",
    "    \"\"\"\n",
    "\n",
    "    nqubits = len(G.nodes())\n",
    "    p = len(theta)//2  # number of alternating unitaries\n",
    "    qc = QuantumCircuit(nqubits)\n",
    "\n",
    "    beta = theta[:p]\n",
    "    gamma = theta[p:]\n",
    "\n",
    "    # initial_state\n",
    "    for i in range(0, nqubits):\n",
    "        qc.h(i)\n",
    "\n",
    "    for irep in range(0, p):\n",
    "\n",
    "        # problem unitary\n",
    "        for pair in list(G.edges()):\n",
    "            qc.rzz(2 * gamma[irep], pair[0], pair[1])\n",
    "\n",
    "        # mixer unitary\n",
    "        for i in range(0, nqubits):\n",
    "            qc.rx(2 * beta[irep], i)\n",
    "\n",
    "    qc.measure_all()\n",
    "\n",
    "    return qc\n",
    "\n",
    "\n",
    "from qiskit import Aer\n",
    "\n",
    "# Finally we write a function that executes the circuit on the chosen backend\n",
    "def get_expectation(G, p, shots=512, backend=Aer.get_backend('aer_simulator')):\n",
    "\n",
    "    \"\"\"\n",
    "    Runs parametrized circuit\n",
    "\n",
    "    Args:\n",
    "        G: networkx graph\n",
    "        p: int,\n",
    "           Number of repetitions of unitaries\n",
    "    \"\"\"\n",
    "    #backend = Aer.get_backend('aer_simulator')\n",
    "\n",
    "    def execute_circ(theta):\n",
    "\n",
    "        qc = create_qaoa_circ(G, theta)\n",
    "        counts = backend.run(qc, shots=512).result().get_counts()\n",
    "\n",
    "        return compute_expectation(counts, G)\n",
    "\n",
    "    return execute_circ"
   ]
  },
  {
   "cell_type": "markdown",
   "metadata": {},
   "source": [
    "Let's perform the minimization"
   ]
  },
  {
   "cell_type": "code",
   "execution_count": 23,
   "metadata": {},
   "outputs": [],
   "source": [
    "from scipy.optimize import minimize\n",
    "\n",
    "\n",
    "expectation = get_expectation(G, p=1)\n",
    "\n",
    "res = minimize(expectation,\n",
    "                      [1.0, 1.0],\n",
    "                      method='COBYLA')"
   ]
  },
  {
   "cell_type": "markdown",
   "metadata": {},
   "source": [
    "Let's see the results without noise"
   ]
  },
  {
   "cell_type": "code",
   "execution_count": 24,
   "metadata": {},
   "outputs": [
    {
     "data": {
      "image/png": "[encoded data removed]",
      "text/plain": [
       "<Figure size 700x500 with 1 Axes>"
      ]
     },
     "execution_count": 24,
     "metadata": {},
     "output_type": "execute_result"
    }
   ],
   "source": [
    "from qiskit.visualization import plot_histogram\n",
    "\n",
    "qc_res = create_qaoa_circ(G, res.x)\n",
    "\n",
    "counts = Aer.get_backend('aer_simulator').run(qc_res, shots=512).result().get_counts()\n",
    "\n",
    "plot_histogram(counts)"
   ]
  },
  {
   "cell_type": "markdown",
   "metadata": {},
   "source": [
    "Let's do it again with noise"
   ]
  },
  {
   "cell_type": "code",
   "execution_count": 26,
   "metadata": {},
   "outputs": [],
   "source": [
    "from scipy.optimize import minimize\n",
    "\n",
    "\n",
    "expectation = get_expectation(G, p=1, backend=noisy_backend)\n",
    "\n",
    "res = minimize(expectation,\n",
    "                      [1.0, 1.0],\n",
    "                      method='COBYLA')"
   ]
  },
  {
   "cell_type": "code",
   "execution_count": 27,
   "metadata": {},
   "outputs": [
    {
     "data": {
      "image/png": "[encoded data removed]",
      "text/plain": [
       "<Figure size 700x500 with 1 Axes>"
      ]
     },
     "execution_count": 27,
     "metadata": {},
     "output_type": "execute_result"
    }
   ],
   "source": [
    "from qiskit.visualization import plot_histogram\n",
    "\n",
    "qc_res = create_qaoa_circ(G, res.x)\n",
    "\n",
    "counts = noisy_backend.run(qc_res, shots=512).result().get_counts()\n",
    "\n",
    "plot_histogram(counts)"
   ]
  },
  {
   "cell_type": "markdown",
   "metadata": {},
   "source": [
    "Let's apply Mitiq"
   ]
  },
  {
   "cell_type": "code",
   "execution_count": 57,
   "metadata": {},
   "outputs": [],
   "source": [
    "def execute_circuit(circuit, p=0.05):\n",
    "    \"\"\"Execute the input circuit and return the expectation value of |00..0><00..0|\"\"\"\n",
    "    noisy_result = noisy_backend.run(circuit, shots=512).result()\n",
    "    noisy_counts = noisy_result.get_counts(circuit)\n",
    "    noisy_expectation_value = noisy_counts[4 * \"0\"] / 512\n",
    "    return noisy_expectation_value\n",
    "\n",
    "def zne_callable(graph, noise_level=0,shots=512):\n",
    "    def execute_circ(qc):\n",
    "        return execute_circuit(qc)\n",
    "    return execute_circ"
   ]
  },
  {
   "cell_type": "code",
   "execution_count": 59,
   "metadata": {},
   "outputs": [
    {
     "name": "stdout",
     "output_type": "stream",
     "text": [
      "<class 'qiskit.circuit.quantumcircuit.QuantumCircuit'>\n"
     ]
    }
   ],
   "source": [
    "expectation = execute_circuit(create_qaoa_circ(G, res.x))\n",
    "    \n",
    "#create the ZNE mitigated expectation(executor)\n",
    "fac = RichardsonFactory(scale_factors=[1, 3, 5])\n",
    "mitigated_expectation = mitigate_executor(executor=zne_callable,factory=fac)\n",
    "\n",
    "\n",
    "qc = create_qaoa_circ(G, res.x)\n",
    "print(type(qc))\n",
    "#cost_function = execute_with_zne(qc, execute_circuit)\n",
    "#output = minimize(cost_function,[1.0,1.0],method = 'COBYLA')\n",
    "#output"
   ]
  },
  {
   "cell_type": "markdown",
   "metadata": {},
   "source": [
    "Let's now use OpenQAOA"
   ]
  },
  {
   "cell_type": "code",
   "execution_count": null,
   "metadata": {},
   "outputs": [],
   "source": [
    "from openqaoa.problems import MaximumCut\n",
    "\n",
    "maxcut_prob = MaximumCut(G)\n",
    "maxcut_qubo = maxcut_prob.qubo"
   ]
  },
  {
   "cell_type": "code",
   "execution_count": null,
   "metadata": {},
   "outputs": [],
   "source": [
    "maxcut_qubo.hamiltonian.expression\n"
   ]
  },
  {
   "cell_type": "markdown",
   "metadata": {},
   "source": [
    "Let's apply some customization parameters"
   ]
  },
  {
   "cell_type": "code",
   "execution_count": null,
   "metadata": {},
   "outputs": [],
   "source": [
    "maxcut_qubo.asdict()\n",
    "q = QAOA()\n",
    "# circuit properties\n",
    "q.set_circuit_properties(p=3, param_type='standard', init_type='ramp', mixer_hamiltonian='xy')\n",
    "\n",
    "# backend properties\n",
    "q.set_backend_properties(init_hadamard=True, n_shots=8000, cvar_alpha=0.85)\n",
    "\n",
    "# classical optimizer properties\n",
    "q.set_classical_optimizer(method='cobyla', maxiter=50, tol=0.05)"
   ]
  },
  {
   "cell_type": "markdown",
   "metadata": {},
   "source": [
    "Let's solve the problem"
   ]
  },
  {
   "cell_type": "code",
   "execution_count": null,
   "metadata": {},
   "outputs": [],
   "source": [
    "q.compile(maxcut_qubo)\n",
    "q.optimize()"
   ]
  },
  {
   "cell_type": "code",
   "execution_count": null,
   "metadata": {},
   "outputs": [],
   "source": [
    "results = q.result\n",
    "print('Most probable states:', results.most_probable_states['solutions_bitstrings'])\n",
    "results.plot_probabilities()"
   ]
  }
 ],
 "metadata": {
  "kernelspec": {
   "display_name": "Python 3",
   "language": "python",
   "name": "python3"
  },
  "language_info": {
   "codemirror_mode": {
    "name": "ipython",
    "version": 3
   },
   "file_extension": ".py",
   "mimetype": "text/x-python",
   "name": "python",
   "nbconvert_exporter": "python",
   "pygments_lexer": "ipython3",
   "version": "3.10.12"
  }
 },
 "nbformat": 4,
 "nbformat_minor": 2
}
